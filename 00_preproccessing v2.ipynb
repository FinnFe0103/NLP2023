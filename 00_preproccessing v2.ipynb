{
 "cells": [
  {
   "cell_type": "code",
   "execution_count": 1,
   "metadata": {},
   "outputs": [
    {
     "name": "stderr",
     "output_type": "stream",
     "text": [
      "/Users/finnfeddersen/Documents/SynologyDrive/01 Data Science/2. Semester/03 Natural Language Processing/Final Project/.venv/lib/python3.8/site-packages/umap/distances.py:1063: NumbaDeprecationWarning: The 'nopython' keyword argument was not supplied to the 'numba.jit' decorator. The implicit default value for this argument is currently False, but it will be changed to True in Numba 0.59.0. See https://numba.readthedocs.io/en/stable/reference/deprecation.html#deprecation-of-object-mode-fall-back-behaviour-when-using-jit for details.\n",
      "  @numba.jit()\n",
      "/Users/finnfeddersen/Documents/SynologyDrive/01 Data Science/2. Semester/03 Natural Language Processing/Final Project/.venv/lib/python3.8/site-packages/umap/distances.py:1071: NumbaDeprecationWarning: The 'nopython' keyword argument was not supplied to the 'numba.jit' decorator. The implicit default value for this argument is currently False, but it will be changed to True in Numba 0.59.0. See https://numba.readthedocs.io/en/stable/reference/deprecation.html#deprecation-of-object-mode-fall-back-behaviour-when-using-jit for details.\n",
      "  @numba.jit()\n",
      "/Users/finnfeddersen/Documents/SynologyDrive/01 Data Science/2. Semester/03 Natural Language Processing/Final Project/.venv/lib/python3.8/site-packages/umap/distances.py:1086: NumbaDeprecationWarning: The 'nopython' keyword argument was not supplied to the 'numba.jit' decorator. The implicit default value for this argument is currently False, but it will be changed to True in Numba 0.59.0. See https://numba.readthedocs.io/en/stable/reference/deprecation.html#deprecation-of-object-mode-fall-back-behaviour-when-using-jit for details.\n",
      "  @numba.jit()\n",
      "/Users/finnfeddersen/Documents/SynologyDrive/01 Data Science/2. Semester/03 Natural Language Processing/Final Project/.venv/lib/python3.8/site-packages/tqdm/auto.py:21: TqdmWarning: IProgress not found. Please update jupyter and ipywidgets. See https://ipywidgets.readthedocs.io/en/stable/user_install.html\n",
      "  from .autonotebook import tqdm as notebook_tqdm\n",
      "/Users/finnfeddersen/Documents/SynologyDrive/01 Data Science/2. Semester/03 Natural Language Processing/Final Project/.venv/lib/python3.8/site-packages/umap/umap_.py:660: NumbaDeprecationWarning: The 'nopython' keyword argument was not supplied to the 'numba.jit' decorator. The implicit default value for this argument is currently False, but it will be changed to True in Numba 0.59.0. See https://numba.readthedocs.io/en/stable/reference/deprecation.html#deprecation-of-object-mode-fall-back-behaviour-when-using-jit for details.\n",
      "  @numba.jit()\n",
      "2023-05-23 15:15:39.526373: I tensorflow/core/platform/cpu_feature_guard.cc:182] This TensorFlow binary is optimized to use available CPU instructions in performance-critical operations.\n",
      "To enable the following instructions: AVX2 FMA, in other operations, rebuild TensorFlow with the appropriate compiler flags.\n"
     ]
    }
   ],
   "source": [
    "import pandas as pd\n",
    "import numpy as np\n",
    "from langdetect import detect\n",
    "from top2vec import Top2Vec"
   ]
  },
  {
   "attachments": {},
   "cell_type": "markdown",
   "metadata": {},
   "source": [
    "# 1 Read-in dataframe"
   ]
  },
  {
   "cell_type": "code",
   "execution_count": 2,
   "metadata": {},
   "outputs": [],
   "source": [
    "# read in dataframe, only use the columns: reviewText, summary, overall, asin\n",
    "df = pd.read_csv('apple.csv', usecols=[\"reviewText\", \"summary\", \"overall\", \"asin\"])"
   ]
  },
  {
   "cell_type": "code",
   "execution_count": 3,
   "metadata": {},
   "outputs": [
    {
     "name": "stdout",
     "output_type": "stream",
     "text": [
      "overall         0\n",
      "asin            0\n",
      "reviewText    128\n",
      "summary        72\n",
      "dtype: int64\n",
      "<class 'pandas.core.frame.DataFrame'>\n",
      "RangeIndex: 66089 entries, 0 to 66088\n",
      "Data columns (total 4 columns):\n",
      " #   Column      Non-Null Count  Dtype  \n",
      "---  ------      --------------  -----  \n",
      " 0   overall     66089 non-null  float64\n",
      " 1   asin        66089 non-null  object \n",
      " 2   reviewText  65961 non-null  object \n",
      " 3   summary     66017 non-null  object \n",
      "dtypes: float64(1), object(3)\n",
      "memory usage: 2.0+ MB\n",
      "None\n",
      "1.0\n",
      "5.0\n"
     ]
    }
   ],
   "source": [
    "print(df.isna().sum())\n",
    "print(df.info())\n",
    "\n",
    "print(df[\"overall\"].min())\n",
    "print(df[\"overall\"].max())"
   ]
  },
  {
   "attachments": {},
   "cell_type": "markdown",
   "metadata": {},
   "source": [
    "# 2 Replace na values and start ratings in reviewText"
   ]
  },
  {
   "cell_type": "code",
   "execution_count": 4,
   "metadata": {},
   "outputs": [
    {
     "name": "stdout",
     "output_type": "stream",
     "text": [
      "(72, 4)\n"
     ]
    },
    {
     "data": {
      "text/html": [
       "<div>\n",
       "<style scoped>\n",
       "    .dataframe tbody tr th:only-of-type {\n",
       "        vertical-align: middle;\n",
       "    }\n",
       "\n",
       "    .dataframe tbody tr th {\n",
       "        vertical-align: top;\n",
       "    }\n",
       "\n",
       "    .dataframe thead th {\n",
       "        text-align: right;\n",
       "    }\n",
       "</style>\n",
       "<table border=\"1\" class=\"dataframe\">\n",
       "  <thead>\n",
       "    <tr style=\"text-align: right;\">\n",
       "      <th></th>\n",
       "      <th>overall</th>\n",
       "      <th>asin</th>\n",
       "      <th>reviewText</th>\n",
       "      <th>summary</th>\n",
       "    </tr>\n",
       "  </thead>\n",
       "  <tbody>\n",
       "    <tr>\n",
       "      <th>3867</th>\n",
       "      <td>1.0</td>\n",
       "      <td>B003TGT48Q</td>\n",
       "      <td>received a defective Touch Screen. We had to b...</td>\n",
       "      <td>NaN</td>\n",
       "    </tr>\n",
       "    <tr>\n",
       "      <th>5044</th>\n",
       "      <td>5.0</td>\n",
       "      <td>B004S227UW</td>\n",
       "      <td>I ordered black but</td>\n",
       "      <td>NaN</td>\n",
       "    </tr>\n",
       "    <tr>\n",
       "      <th>5592</th>\n",
       "      <td>5.0</td>\n",
       "      <td>B004S227UW</td>\n",
       "      <td>Loved this phone too bad I now upgraded to a ip6</td>\n",
       "      <td>NaN</td>\n",
       "    </tr>\n",
       "    <tr>\n",
       "      <th>9699</th>\n",
       "      <td>5.0</td>\n",
       "      <td>B005SSBE7W</td>\n",
       "      <td></td>\n",
       "      <td>NaN</td>\n",
       "    </tr>\n",
       "    <tr>\n",
       "      <th>13277</th>\n",
       "      <td>5.0</td>\n",
       "      <td>B0074R0Z3O</td>\n",
       "      <td>great phone love it. looks brand new</td>\n",
       "      <td>NaN</td>\n",
       "    </tr>\n",
       "  </tbody>\n",
       "</table>\n",
       "</div>"
      ],
      "text/plain": [
       "       overall        asin                                         reviewText   \n",
       "3867       1.0  B003TGT48Q  received a defective Touch Screen. We had to b...  \\\n",
       "5044       5.0  B004S227UW                               I ordered black but    \n",
       "5592       5.0  B004S227UW  Loved this phone too bad I now upgraded to a ip6    \n",
       "9699       5.0  B005SSBE7W                                                      \n",
       "13277      5.0  B0074R0Z3O              great phone love it. looks brand new    \n",
       "\n",
       "      summary  \n",
       "3867      NaN  \n",
       "5044      NaN  \n",
       "5592      NaN  \n",
       "9699      NaN  \n",
       "13277     NaN  "
      ]
     },
     "execution_count": 4,
     "metadata": {},
     "output_type": "execute_result"
    }
   ],
   "source": [
    "# look at the na values in summary\n",
    "print(df[df[\"summary\"].isna()].shape)\n",
    "df[df[\"summary\"].isna()].head()"
   ]
  },
  {
   "cell_type": "code",
   "execution_count": 5,
   "metadata": {},
   "outputs": [
    {
     "data": {
      "text/html": [
       "<div>\n",
       "<style scoped>\n",
       "    .dataframe tbody tr th:only-of-type {\n",
       "        vertical-align: middle;\n",
       "    }\n",
       "\n",
       "    .dataframe tbody tr th {\n",
       "        vertical-align: top;\n",
       "    }\n",
       "\n",
       "    .dataframe thead th {\n",
       "        text-align: right;\n",
       "    }\n",
       "</style>\n",
       "<table border=\"1\" class=\"dataframe\">\n",
       "  <thead>\n",
       "    <tr style=\"text-align: right;\">\n",
       "      <th></th>\n",
       "      <th>overall</th>\n",
       "      <th>asin</th>\n",
       "      <th>reviewText</th>\n",
       "      <th>summary</th>\n",
       "    </tr>\n",
       "  </thead>\n",
       "  <tbody>\n",
       "    <tr>\n",
       "      <th>31</th>\n",
       "      <td>5.0</td>\n",
       "      <td>B001AXA056</td>\n",
       "      <td>this was a past order but still works fine :D</td>\n",
       "      <td>Five Stars</td>\n",
       "    </tr>\n",
       "    <tr>\n",
       "      <th>32</th>\n",
       "      <td>4.0</td>\n",
       "      <td>B001AXA056</td>\n",
       "      <td>very nice, product, fast delivery, i recommend...</td>\n",
       "      <td>Four Stars</td>\n",
       "    </tr>\n",
       "    <tr>\n",
       "      <th>33</th>\n",
       "      <td>5.0</td>\n",
       "      <td>B001AXA056</td>\n",
       "      <td>My son loves it, I cant even touch it. LOL</td>\n",
       "      <td>Five Stars</td>\n",
       "    </tr>\n",
       "    <tr>\n",
       "      <th>34</th>\n",
       "      <td>1.0</td>\n",
       "      <td>B001AXA056</td>\n",
       "      <td>Not good at all!</td>\n",
       "      <td>One Star</td>\n",
       "    </tr>\n",
       "    <tr>\n",
       "      <th>35</th>\n",
       "      <td>4.0</td>\n",
       "      <td>B001AXA056</td>\n",
       "      <td>good</td>\n",
       "      <td>Four Stars</td>\n",
       "    </tr>\n",
       "    <tr>\n",
       "      <th>...</th>\n",
       "      <td>...</td>\n",
       "      <td>...</td>\n",
       "      <td>...</td>\n",
       "      <td>...</td>\n",
       "    </tr>\n",
       "    <tr>\n",
       "      <th>66071</th>\n",
       "      <td>5.0</td>\n",
       "      <td>B01H968VFI</td>\n",
       "      <td>phone is very good and has more to offer than ...</td>\n",
       "      <td>Five Stars</td>\n",
       "    </tr>\n",
       "    <tr>\n",
       "      <th>66073</th>\n",
       "      <td>5.0</td>\n",
       "      <td>B01H968VI0</td>\n",
       "      <td>The iphone works just fine.</td>\n",
       "      <td>Five Stars</td>\n",
       "    </tr>\n",
       "    <tr>\n",
       "      <th>66075</th>\n",
       "      <td>5.0</td>\n",
       "      <td>B01HB5RYF0</td>\n",
       "      <td>Love it.</td>\n",
       "      <td>Five Stars</td>\n",
       "    </tr>\n",
       "    <tr>\n",
       "      <th>66078</th>\n",
       "      <td>5.0</td>\n",
       "      <td>B01HB5RJ5A</td>\n",
       "      <td>works great and delivered on time, just as adv...</td>\n",
       "      <td>Five Stars</td>\n",
       "    </tr>\n",
       "    <tr>\n",
       "      <th>66087</th>\n",
       "      <td>5.0</td>\n",
       "      <td>B01HC0HLFM</td>\n",
       "      <td>Perfect condition</td>\n",
       "      <td>Five Stars</td>\n",
       "    </tr>\n",
       "  </tbody>\n",
       "</table>\n",
       "<p>24641 rows × 4 columns</p>\n",
       "</div>"
      ],
      "text/plain": [
       "       overall        asin                                         reviewText   \n",
       "31         5.0  B001AXA056      this was a past order but still works fine :D  \\\n",
       "32         4.0  B001AXA056  very nice, product, fast delivery, i recommend...   \n",
       "33         5.0  B001AXA056         My son loves it, I cant even touch it. LOL   \n",
       "34         1.0  B001AXA056                                   Not good at all!   \n",
       "35         4.0  B001AXA056                                               good   \n",
       "...        ...         ...                                                ...   \n",
       "66071      5.0  B01H968VFI  phone is very good and has more to offer than ...   \n",
       "66073      5.0  B01H968VI0                        The iphone works just fine.   \n",
       "66075      5.0  B01HB5RYF0                                           Love it.   \n",
       "66078      5.0  B01HB5RJ5A  works great and delivered on time, just as adv...   \n",
       "66087      5.0  B01HC0HLFM                                  Perfect condition   \n",
       "\n",
       "          summary  \n",
       "31     Five Stars  \n",
       "32     Four Stars  \n",
       "33     Five Stars  \n",
       "34       One Star  \n",
       "35     Four Stars  \n",
       "...           ...  \n",
       "66071  Five Stars  \n",
       "66073  Five Stars  \n",
       "66075  Five Stars  \n",
       "66078  Five Stars  \n",
       "66087  Five Stars  \n",
       "\n",
       "[24641 rows x 4 columns]"
      ]
     },
     "execution_count": 5,
     "metadata": {},
     "output_type": "execute_result"
    }
   ],
   "source": [
    "# look at the \"star rating\" text in the summary column\n",
    "stars = [\"One Star\", \"Two Stars\", \"Three Stars\", \"Four Stars\", \"Five Stars\", \"1 Star\", \"2 Stars\", \"3 Stars\", \"4 Stars\", \"5 Stars\"]\n",
    "df[df[\"summary\"].isin(stars)]"
   ]
  },
  {
   "cell_type": "code",
   "execution_count": 6,
   "metadata": {},
   "outputs": [
    {
     "name": "stdout",
     "output_type": "stream",
     "text": [
      "Fill 72 na values with empty string\n"
     ]
    }
   ],
   "source": [
    "# fill na values in summary with empty string\n",
    "print(\"Fill {0} na values with empty string\".format(df[df[\"summary\"].isna()].shape[0]))\n",
    "df.loc[df[\"summary\"].isna(), \"summary\"] = \"\""
   ]
  },
  {
   "cell_type": "code",
   "execution_count": 7,
   "metadata": {},
   "outputs": [
    {
     "name": "stdout",
     "output_type": "stream",
     "text": [
      "Fill 24641 na values with empty string\n",
      "\n",
      "Doblecheck:\n"
     ]
    },
    {
     "data": {
      "text/html": [
       "<div>\n",
       "<style scoped>\n",
       "    .dataframe tbody tr th:only-of-type {\n",
       "        vertical-align: middle;\n",
       "    }\n",
       "\n",
       "    .dataframe tbody tr th {\n",
       "        vertical-align: top;\n",
       "    }\n",
       "\n",
       "    .dataframe thead th {\n",
       "        text-align: right;\n",
       "    }\n",
       "</style>\n",
       "<table border=\"1\" class=\"dataframe\">\n",
       "  <thead>\n",
       "    <tr style=\"text-align: right;\">\n",
       "      <th></th>\n",
       "      <th>overall</th>\n",
       "      <th>asin</th>\n",
       "      <th>reviewText</th>\n",
       "      <th>summary</th>\n",
       "    </tr>\n",
       "  </thead>\n",
       "  <tbody>\n",
       "    <tr>\n",
       "      <th>31</th>\n",
       "      <td>5.0</td>\n",
       "      <td>B001AXA056</td>\n",
       "      <td>this was a past order but still works fine :D</td>\n",
       "      <td></td>\n",
       "    </tr>\n",
       "    <tr>\n",
       "      <th>32</th>\n",
       "      <td>4.0</td>\n",
       "      <td>B001AXA056</td>\n",
       "      <td>very nice, product, fast delivery, i recommend...</td>\n",
       "      <td></td>\n",
       "    </tr>\n",
       "    <tr>\n",
       "      <th>33</th>\n",
       "      <td>5.0</td>\n",
       "      <td>B001AXA056</td>\n",
       "      <td>My son loves it, I cant even touch it. LOL</td>\n",
       "      <td></td>\n",
       "    </tr>\n",
       "    <tr>\n",
       "      <th>34</th>\n",
       "      <td>1.0</td>\n",
       "      <td>B001AXA056</td>\n",
       "      <td>Not good at all!</td>\n",
       "      <td></td>\n",
       "    </tr>\n",
       "    <tr>\n",
       "      <th>35</th>\n",
       "      <td>4.0</td>\n",
       "      <td>B001AXA056</td>\n",
       "      <td>good</td>\n",
       "      <td></td>\n",
       "    </tr>\n",
       "    <tr>\n",
       "      <th>132</th>\n",
       "      <td>4.0</td>\n",
       "      <td>B001CJTE0K</td>\n",
       "      <td>Great quality pouch fits my samsung galaxy S4 ...</td>\n",
       "      <td></td>\n",
       "    </tr>\n",
       "    <tr>\n",
       "      <th>133</th>\n",
       "      <td>4.0</td>\n",
       "      <td>B001CJTE0K</td>\n",
       "      <td>I love it....Thank You.....!!!!!</td>\n",
       "      <td></td>\n",
       "    </tr>\n",
       "    <tr>\n",
       "      <th>134</th>\n",
       "      <td>2.0</td>\n",
       "      <td>B001CJTE0K</td>\n",
       "      <td>ok</td>\n",
       "      <td></td>\n",
       "    </tr>\n",
       "    <tr>\n",
       "      <th>135</th>\n",
       "      <td>3.0</td>\n",
       "      <td>B001CJTE0K</td>\n",
       "      <td>5 stars</td>\n",
       "      <td></td>\n",
       "    </tr>\n",
       "    <tr>\n",
       "      <th>136</th>\n",
       "      <td>3.0</td>\n",
       "      <td>B001CJTE0K</td>\n",
       "      <td>b</td>\n",
       "      <td></td>\n",
       "    </tr>\n",
       "  </tbody>\n",
       "</table>\n",
       "</div>"
      ],
      "text/plain": [
       "     overall        asin                                         reviewText   \n",
       "31       5.0  B001AXA056      this was a past order but still works fine :D  \\\n",
       "32       4.0  B001AXA056  very nice, product, fast delivery, i recommend...   \n",
       "33       5.0  B001AXA056         My son loves it, I cant even touch it. LOL   \n",
       "34       1.0  B001AXA056                                   Not good at all!   \n",
       "35       4.0  B001AXA056                                               good   \n",
       "132      4.0  B001CJTE0K  Great quality pouch fits my samsung galaxy S4 ...   \n",
       "133      4.0  B001CJTE0K                   I love it....Thank You.....!!!!!   \n",
       "134      2.0  B001CJTE0K                                                 ok   \n",
       "135      3.0  B001CJTE0K                                            5 stars   \n",
       "136      3.0  B001CJTE0K                                                  b   \n",
       "\n",
       "    summary  \n",
       "31           \n",
       "32           \n",
       "33           \n",
       "34           \n",
       "35           \n",
       "132          \n",
       "133          \n",
       "134          \n",
       "135          \n",
       "136          "
      ]
     },
     "execution_count": 7,
     "metadata": {},
     "output_type": "execute_result"
    }
   ],
   "source": [
    "# fill values in summary with only a star rating\n",
    "print(\"Fill {0} na values with empty string\".format(df[df[\"summary\"].isin(stars)].shape[0]))\n",
    "df.loc[df[\"summary\"].isin(stars), \"summary\"] = \"\"\n",
    "print(\"\\nDoblecheck:\")\n",
    "indexes = [31, 32, 33, 34, 35, 132, 133, 134, 135, 136]\n",
    "df.loc[indexes, :]"
   ]
  },
  {
   "attachments": {},
   "cell_type": "markdown",
   "metadata": {},
   "source": [
    "# 3 Replace na values in reviewText"
   ]
  },
  {
   "cell_type": "code",
   "execution_count": 8,
   "metadata": {},
   "outputs": [
    {
     "name": "stdout",
     "output_type": "stream",
     "text": [
      "\n",
      "LOOK AT THE NA VALUES IN summary\n",
      "(128, 4)\n"
     ]
    },
    {
     "data": {
      "text/html": [
       "<div>\n",
       "<style scoped>\n",
       "    .dataframe tbody tr th:only-of-type {\n",
       "        vertical-align: middle;\n",
       "    }\n",
       "\n",
       "    .dataframe tbody tr th {\n",
       "        vertical-align: top;\n",
       "    }\n",
       "\n",
       "    .dataframe thead th {\n",
       "        text-align: right;\n",
       "    }\n",
       "</style>\n",
       "<table border=\"1\" class=\"dataframe\">\n",
       "  <thead>\n",
       "    <tr style=\"text-align: right;\">\n",
       "      <th></th>\n",
       "      <th>overall</th>\n",
       "      <th>asin</th>\n",
       "      <th>reviewText</th>\n",
       "      <th>summary</th>\n",
       "    </tr>\n",
       "  </thead>\n",
       "  <tbody>\n",
       "    <tr>\n",
       "      <th>3541</th>\n",
       "      <td>5.0</td>\n",
       "      <td>B003PJBWOQ</td>\n",
       "      <td>NaN</td>\n",
       "      <td></td>\n",
       "    </tr>\n",
       "    <tr>\n",
       "      <th>3772</th>\n",
       "      <td>5.0</td>\n",
       "      <td>B003PJBWOQ</td>\n",
       "      <td>NaN</td>\n",
       "      <td></td>\n",
       "    </tr>\n",
       "    <tr>\n",
       "      <th>4534</th>\n",
       "      <td>5.0</td>\n",
       "      <td>B004S227UW</td>\n",
       "      <td>NaN</td>\n",
       "      <td></td>\n",
       "    </tr>\n",
       "    <tr>\n",
       "      <th>4560</th>\n",
       "      <td>3.0</td>\n",
       "      <td>B004S227UW</td>\n",
       "      <td>NaN</td>\n",
       "      <td></td>\n",
       "    </tr>\n",
       "    <tr>\n",
       "      <th>4695</th>\n",
       "      <td>5.0</td>\n",
       "      <td>B004S227UW</td>\n",
       "      <td>NaN</td>\n",
       "      <td></td>\n",
       "    </tr>\n",
       "  </tbody>\n",
       "</table>\n",
       "</div>"
      ],
      "text/plain": [
       "      overall        asin reviewText summary\n",
       "3541      5.0  B003PJBWOQ        NaN        \n",
       "3772      5.0  B003PJBWOQ        NaN        \n",
       "4534      5.0  B004S227UW        NaN        \n",
       "4560      3.0  B004S227UW        NaN        \n",
       "4695      5.0  B004S227UW        NaN        "
      ]
     },
     "execution_count": 8,
     "metadata": {},
     "output_type": "execute_result"
    }
   ],
   "source": [
    "# look at the na values in reviewText\n",
    "print(\"\\nLOOK AT THE NA VALUES IN summary\")\n",
    "print(df[df[\"reviewText\"].isna()].shape)\n",
    "df[df[\"reviewText\"].isna()].head()"
   ]
  },
  {
   "cell_type": "code",
   "execution_count": 9,
   "metadata": {},
   "outputs": [
    {
     "name": "stdout",
     "output_type": "stream",
     "text": [
      "Fill 128 na values with empty string\n",
      "\n",
      "Doblecheck:\n"
     ]
    },
    {
     "data": {
      "text/html": [
       "<div>\n",
       "<style scoped>\n",
       "    .dataframe tbody tr th:only-of-type {\n",
       "        vertical-align: middle;\n",
       "    }\n",
       "\n",
       "    .dataframe tbody tr th {\n",
       "        vertical-align: top;\n",
       "    }\n",
       "\n",
       "    .dataframe thead th {\n",
       "        text-align: right;\n",
       "    }\n",
       "</style>\n",
       "<table border=\"1\" class=\"dataframe\">\n",
       "  <thead>\n",
       "    <tr style=\"text-align: right;\">\n",
       "      <th></th>\n",
       "      <th>overall</th>\n",
       "      <th>asin</th>\n",
       "      <th>reviewText</th>\n",
       "      <th>summary</th>\n",
       "    </tr>\n",
       "  </thead>\n",
       "  <tbody>\n",
       "    <tr>\n",
       "      <th>3541</th>\n",
       "      <td>5.0</td>\n",
       "      <td>B003PJBWOQ</td>\n",
       "      <td></td>\n",
       "      <td></td>\n",
       "    </tr>\n",
       "    <tr>\n",
       "      <th>3772</th>\n",
       "      <td>5.0</td>\n",
       "      <td>B003PJBWOQ</td>\n",
       "      <td></td>\n",
       "      <td></td>\n",
       "    </tr>\n",
       "    <tr>\n",
       "      <th>4534</th>\n",
       "      <td>5.0</td>\n",
       "      <td>B004S227UW</td>\n",
       "      <td></td>\n",
       "      <td></td>\n",
       "    </tr>\n",
       "    <tr>\n",
       "      <th>4560</th>\n",
       "      <td>3.0</td>\n",
       "      <td>B004S227UW</td>\n",
       "      <td></td>\n",
       "      <td></td>\n",
       "    </tr>\n",
       "    <tr>\n",
       "      <th>4695</th>\n",
       "      <td>5.0</td>\n",
       "      <td>B004S227UW</td>\n",
       "      <td></td>\n",
       "      <td></td>\n",
       "    </tr>\n",
       "  </tbody>\n",
       "</table>\n",
       "</div>"
      ],
      "text/plain": [
       "      overall        asin reviewText summary\n",
       "3541      5.0  B003PJBWOQ                   \n",
       "3772      5.0  B003PJBWOQ                   \n",
       "4534      5.0  B004S227UW                   \n",
       "4560      3.0  B004S227UW                   \n",
       "4695      5.0  B004S227UW                   "
      ]
     },
     "execution_count": 9,
     "metadata": {},
     "output_type": "execute_result"
    }
   ],
   "source": [
    "# fill na values in reviewText with empty string\n",
    "print(\"Fill {0} na values with empty string\".format(df[df[\"reviewText\"].isna()].shape[0]))\n",
    "df.loc[df[\"reviewText\"].isna(), \"reviewText\"] = \"\"\n",
    "print(\"\\nDoblecheck:\")\n",
    "indexes = [3541, 3772, 4534, 4560, 4695]\n",
    "df.loc[indexes, :]"
   ]
  },
  {
   "cell_type": "code",
   "execution_count": 10,
   "metadata": {},
   "outputs": [
    {
     "name": "stdout",
     "output_type": "stream",
     "text": [
      "There are 11 rows with empty reviewText and non-empty summary\n"
     ]
    },
    {
     "data": {
      "text/html": [
       "<div>\n",
       "<style scoped>\n",
       "    .dataframe tbody tr th:only-of-type {\n",
       "        vertical-align: middle;\n",
       "    }\n",
       "\n",
       "    .dataframe tbody tr th {\n",
       "        vertical-align: top;\n",
       "    }\n",
       "\n",
       "    .dataframe thead th {\n",
       "        text-align: right;\n",
       "    }\n",
       "</style>\n",
       "<table border=\"1\" class=\"dataframe\">\n",
       "  <thead>\n",
       "    <tr style=\"text-align: right;\">\n",
       "      <th></th>\n",
       "      <th>overall</th>\n",
       "      <th>asin</th>\n",
       "      <th>reviewText</th>\n",
       "      <th>summary</th>\n",
       "    </tr>\n",
       "  </thead>\n",
       "  <tbody>\n",
       "    <tr>\n",
       "      <th>7682</th>\n",
       "      <td>1.0</td>\n",
       "      <td>B005SSBE7W</td>\n",
       "      <td></td>\n",
       "      <td>I need help I got the phone it works but my si...</td>\n",
       "    </tr>\n",
       "    <tr>\n",
       "      <th>17775</th>\n",
       "      <td>5.0</td>\n",
       "      <td>B00A83I8G2</td>\n",
       "      <td></td>\n",
       "      <td>Actual apple product. A+</td>\n",
       "    </tr>\n",
       "    <tr>\n",
       "      <th>29486</th>\n",
       "      <td>5.0</td>\n",
       "      <td>B00K0Q2YV2</td>\n",
       "      <td></td>\n",
       "      <td>It did well!</td>\n",
       "    </tr>\n",
       "    <tr>\n",
       "      <th>40057</th>\n",
       "      <td>5.0</td>\n",
       "      <td>B00YD53FHS</td>\n",
       "      <td></td>\n",
       "      <td>Top</td>\n",
       "    </tr>\n",
       "    <tr>\n",
       "      <th>42601</th>\n",
       "      <td>5.0</td>\n",
       "      <td>B00YD54J8W</td>\n",
       "      <td></td>\n",
       "      <td>Nice and fast shipment</td>\n",
       "    </tr>\n",
       "    <tr>\n",
       "      <th>42887</th>\n",
       "      <td>1.0</td>\n",
       "      <td>B00YD54J8W</td>\n",
       "      <td></td>\n",
       "      <td>Damaged</td>\n",
       "    </tr>\n",
       "    <tr>\n",
       "      <th>45839</th>\n",
       "      <td>5.0</td>\n",
       "      <td>B00YD547Q6</td>\n",
       "      <td></td>\n",
       "      <td>Seller was awesome to my questions</td>\n",
       "    </tr>\n",
       "    <tr>\n",
       "      <th>50051</th>\n",
       "      <td>5.0</td>\n",
       "      <td>B012BN15LQ</td>\n",
       "      <td></td>\n",
       "      <td>Works fine</td>\n",
       "    </tr>\n",
       "    <tr>\n",
       "      <th>54463</th>\n",
       "      <td>4.0</td>\n",
       "      <td>B015E8VWEU</td>\n",
       "      <td></td>\n",
       "      <td>Awaiting feedback from recipient</td>\n",
       "    </tr>\n",
       "    <tr>\n",
       "      <th>59304</th>\n",
       "      <td>5.0</td>\n",
       "      <td>B01EVPI68W</td>\n",
       "      <td></td>\n",
       "      <td>Absolutely good</td>\n",
       "    </tr>\n",
       "    <tr>\n",
       "      <th>59593</th>\n",
       "      <td>5.0</td>\n",
       "      <td>B01GXAZFRI</td>\n",
       "      <td></td>\n",
       "      <td>Small Company Good Products</td>\n",
       "    </tr>\n",
       "  </tbody>\n",
       "</table>\n",
       "</div>"
      ],
      "text/plain": [
       "       overall        asin reviewText   \n",
       "7682       1.0  B005SSBE7W             \\\n",
       "17775      5.0  B00A83I8G2              \n",
       "29486      5.0  B00K0Q2YV2              \n",
       "40057      5.0  B00YD53FHS              \n",
       "42601      5.0  B00YD54J8W              \n",
       "42887      1.0  B00YD54J8W              \n",
       "45839      5.0  B00YD547Q6              \n",
       "50051      5.0  B012BN15LQ              \n",
       "54463      4.0  B015E8VWEU              \n",
       "59304      5.0  B01EVPI68W              \n",
       "59593      5.0  B01GXAZFRI              \n",
       "\n",
       "                                                 summary  \n",
       "7682   I need help I got the phone it works but my si...  \n",
       "17775                           Actual apple product. A+  \n",
       "29486                                       It did well!  \n",
       "40057                                                Top  \n",
       "42601                             Nice and fast shipment  \n",
       "42887                                            Damaged  \n",
       "45839                 Seller was awesome to my questions  \n",
       "50051                                         Works fine  \n",
       "54463                   Awaiting feedback from recipient  \n",
       "59304                                    Absolutely good  \n",
       "59593                        Small Company Good Products  "
      ]
     },
     "execution_count": 10,
     "metadata": {},
     "output_type": "execute_result"
    }
   ],
   "source": [
    "print(\"There are {0} rows with empty reviewText and non-empty summary\".format(df.loc[(df[\"reviewText\"] == \"\") & (df[\"summary\"] != \"\")].shape[0]))\n",
    "df.loc[(df[\"reviewText\"] == \"\") & (df[\"summary\"] != \"\")]"
   ]
  },
  {
   "attachments": {},
   "cell_type": "markdown",
   "metadata": {},
   "source": [
    "# 4 Combine reviewText and summary into corpus and clean"
   ]
  },
  {
   "cell_type": "code",
   "execution_count": 11,
   "metadata": {},
   "outputs": [
    {
     "data": {
      "text/html": [
       "<div>\n",
       "<style scoped>\n",
       "    .dataframe tbody tr th:only-of-type {\n",
       "        vertical-align: middle;\n",
       "    }\n",
       "\n",
       "    .dataframe tbody tr th {\n",
       "        vertical-align: top;\n",
       "    }\n",
       "\n",
       "    .dataframe thead th {\n",
       "        text-align: right;\n",
       "    }\n",
       "</style>\n",
       "<table border=\"1\" class=\"dataframe\">\n",
       "  <thead>\n",
       "    <tr style=\"text-align: right;\">\n",
       "      <th></th>\n",
       "      <th>overall</th>\n",
       "      <th>asin</th>\n",
       "      <th>corpus</th>\n",
       "    </tr>\n",
       "  </thead>\n",
       "  <tbody>\n",
       "    <tr>\n",
       "      <th>0</th>\n",
       "      <td>1.0</td>\n",
       "      <td>B0013LKXEI</td>\n",
       "      <td>Dont buy these The only good thing about these...</td>\n",
       "    </tr>\n",
       "    <tr>\n",
       "      <th>1</th>\n",
       "      <td>2.0</td>\n",
       "      <td>B0013LKXEI</td>\n",
       "      <td>I suppose... These headphones came pretty quic...</td>\n",
       "    </tr>\n",
       "    <tr>\n",
       "      <th>2</th>\n",
       "      <td>5.0</td>\n",
       "      <td>B0013LKXEI</td>\n",
       "      <td>Awesome! I was replacing my earbuds and was re...</td>\n",
       "    </tr>\n",
       "    <tr>\n",
       "      <th>3</th>\n",
       "      <td>4.0</td>\n",
       "      <td>B0013LKXEI</td>\n",
       "      <td>iPod headphones They are pretty good. I would ...</td>\n",
       "    </tr>\n",
       "    <tr>\n",
       "      <th>4</th>\n",
       "      <td>1.0</td>\n",
       "      <td>B0014HKJKY</td>\n",
       "      <td>Fits Like a Glove... on OJ Simpson's Hand Thes...</td>\n",
       "    </tr>\n",
       "  </tbody>\n",
       "</table>\n",
       "</div>"
      ],
      "text/plain": [
       "   overall        asin                                             corpus\n",
       "0      1.0  B0013LKXEI  Dont buy these The only good thing about these...\n",
       "1      2.0  B0013LKXEI  I suppose... These headphones came pretty quic...\n",
       "2      5.0  B0013LKXEI  Awesome! I was replacing my earbuds and was re...\n",
       "3      4.0  B0013LKXEI  iPod headphones They are pretty good. I would ...\n",
       "4      1.0  B0014HKJKY  Fits Like a Glove... on OJ Simpson's Hand Thes..."
      ]
     },
     "execution_count": 11,
     "metadata": {},
     "output_type": "execute_result"
    }
   ],
   "source": [
    "# combine the reviewText and summary columns\n",
    "df[\"corpus\"] = df[\"summary\"] + \" \" + df[\"reviewText\"]\n",
    "df = df.drop(columns=[\"reviewText\", \"summary\"])\n",
    "df.head()"
   ]
  },
  {
   "cell_type": "code",
   "execution_count": 12,
   "metadata": {},
   "outputs": [
    {
     "name": "stdout",
     "output_type": "stream",
     "text": [
      "There are 117 rows with empty corpus\n"
     ]
    }
   ],
   "source": [
    "# drop rows with empty corpus\n",
    "print(\"There are {0} rows with empty corpus\".format(df[df[\"corpus\"] == \" \"].shape[0]))\n",
    "df = df[df[\"corpus\"] != \" \"]"
   ]
  },
  {
   "cell_type": "code",
   "execution_count": 13,
   "metadata": {},
   "outputs": [
    {
     "name": "stdout",
     "output_type": "stream",
     "text": [
      "There are 30 rows with only non-english characters\n"
     ]
    }
   ],
   "source": [
    "# drop rows that solely contain non-english characters\n",
    "print(\"There are {0} rows with only non-english characters\".format(df[~df[\"corpus\"].str.contains(\"[a-zA-Z]\")].shape[0]))\n",
    "df = df[df[\"corpus\"].str.contains(\"[a-zA-Z]\")]"
   ]
  },
  {
   "cell_type": "code",
   "execution_count": 14,
   "metadata": {},
   "outputs": [
    {
     "name": "stdout",
     "output_type": "stream",
     "text": [
      "There are 12640 rows with less than 5 words\n",
      "\n",
      "Removing rows such as:\n",
      "     overall        asin                             corpus\n",
      "34       1.0  B001AXA056                   Not good at all!\n",
      "35       4.0  B001AXA056                               good\n",
      "133      4.0  B001CJTE0K   I love it....Thank You.....!!!!!\n",
      "134      2.0  B001CJTE0K                                 ok\n",
      "135      3.0  B001CJTE0K                            5 stars\n",
      "\n",
      "Number of rows after filtering: 53302\n"
     ]
    }
   ],
   "source": [
    "# drop rows that contain less than 10 words\n",
    "\n",
    "min_size = 5\n",
    "\n",
    "print(\"There are {0} rows with less than {1} words\".format(df[df[\"corpus\"].str.split().str.len() < min_size].shape[0], min_size))\n",
    "print(\"\\nRemoving rows such as:\")\n",
    "print(df[df[\"corpus\"].str.split().str.len() < min_size].head(5))\n",
    "df = df[df[\"corpus\"].str.split().str.len() >= min_size]\n",
    "print(f\"\\nNumber of rows after filtering: {df.shape[0]}\")"
   ]
  },
  {
   "cell_type": "code",
   "execution_count": 15,
   "metadata": {},
   "outputs": [
    {
     "name": "stdout",
     "output_type": "stream",
     "text": [
      "There are 4835 rows where corpus contains '\\n'\n"
     ]
    }
   ],
   "source": [
    "# replace \\n with space\n",
    "print(\"There are {0} rows where corpus contains '\\\\n'\".format(df[df[\"corpus\"].str.contains(\"\\n\")].shape[0]))\n",
    "df[\"corpus\"] = df[\"corpus\"].str.replace(\"\\n\", \" \")"
   ]
  },
  {
   "cell_type": "code",
   "execution_count": 16,
   "metadata": {},
   "outputs": [
    {
     "name": "stdout",
     "output_type": "stream",
     "text": [
      "['very good very good item is OK I like very good very good very good very good very good very good very good', 'Did not work.. Did not work. Bad product', 'Mi pedido no ha llegado es una estafa electronica no lo he revisado porque no me lo han mandado ojo con esto muchas veces existen estafas electronicas con supuestos vendedores conectados con amazon ese es mi caso la compaia proveedora no es responsable', 'me estafaron Me enviaron el telefono malo me rebajaron de la tarejeta otra cantidad por otro telefono y NO lo enviaron ESTAFADORES', 'exelente exelente atencion y producto recomendado producto cumple con lo descrito y es tremendo equipo el vendedor preocupado y atento etc', 'NICE me gusto el producto, lo que  mostro la foto, sin problema en la entrega,  compra satisfactoria producto en buena calidad', 'me enganaron El Apple iphone 3G 16GB  UNLOCKED Es una imitacion no funciona es un engano lo lleve a la tienda de Appel y hasi me lo comfirmaron', 'Excelente Productos y Servicio Recomendados gente seria y excelentes productos recomendado 100% excelentes productos asics, siempre pendiente si la entrega estaba a tiempo muy confiables y rpidos en sus encomiendas', \" It's broken when I got it it won't even charge\", 'I love it 100% recomendado', 'no lo recibi lamentablemente la empresa por la cual estoy registradas para los envios a venezuela extravio el producto y no puedo dar ninguna referencia del mismo', 'excelente excelente producto, era lo que en realidad estaba esperando, me llego a tiempo, excelente compra, .) :) :) :) :)', 'excelente Excelente calidad y entrega en tiempo y forma lo acordado. Muchas gracias por todo. Esperamos volver a comprar muy pronto.lo recomendamos', 'MALO MUY MALA LLEGO CON LA PANTALLA MALA LO UNICO BUENO FUE QUE SE DELVOLVIO Y SE REGRESO EL DINERO, OK', 'no sirvio elpin de carga el telefono vino con el pin de carga daado el vendedor es un irresponsable, tengo que mandar a repararlo por mi cuenta no lo recomiendo', 'DEFECTUOSO DE BATERIA DEFECTUOSO DE BATERIA DEFECTUOSO DE BATERIA DEFECTUOSO DE BATERIA DEFECTUOSO DE BATERIA DEFECTUOSO DE BATERIA DEFECTUOSO DE BATERIA DEFECTUOSO DE BATERIA DEFECTUOSO DE BATERIA  DEFECTUOSO DE BATERIA ,,,,,,, ,, , , ,, ,,,,,,,,,,,,,,, ,', 'apple iphone El cliente cumpli con la entrega del producto a tiempo, por lo cual he quedado satisfecho para poder optar o tomar en cuenta para una prxima compra. gracias........', 'Good Muy buen producto y entrega a tiempo , lo recomiendo , calidad y servicio , very good, excelente . .', 'EXCELENTE TODO MUY BIEN 100% RECOMENDADO PUEDEN COMPRAR CON TODA CONFIANZA TODO A LLEGADO DE LA MANERA CORRECTA LO MEJOR, LO MEJOR', 'NO RECOMENDO No  bom negcio adquirir um Iphone inferior ao 4. O Iphone 3G no permite a instalao de vrios aplicados devido ao seu iOS, que no atualiza. No recomendo o aparelho a ningum.', 'good exelente de verdad un articulo nuevo en muy buenas condiciones el envio fue rapido y llego a su destino en menos tiempo de lo esperado recomiendo este articulo', 'Excelente Producto Todo funcional nuevo y como decia en la descripcion del vendedor ninguna queja, incluia el adaptador de corriente, cable usb, y cuna de carga.', 'Perfectly Todo ha llegado de forma perfecta, los productos muy bien protegidos, todo sin ninguna novedad, voy a seguir comprando en amazon, gracias', 'Buen Telfono, Como yo lo quera .. Desbloqueado..! El telfono me lleg con las especificaciones tal cual deca el vendedor, NUEVO y realmente DESBLOQUEADO, trabaja perfectamente con las operadoras venezolanas, se escucha bien y se conecta al internet perfectamente, slo he notado que tarda un poco al cargar las aplicaciones o pginas, pero puede solucionarse con una actualizacin de software que aun no le he realizado, adems que como todo iphone le dura poco la bateria y en mi caso solo carga directamente de la computadora porque del toma corriente tarda demasiado, pero eso son detalles que a mi parecer no dependen del vendedor. realmente recomiendo este producto y mi decisin de comprarle a este proveedor \"the OEM Shop\" fue por los comentarios de los compradores anteriores y ahora yo tambin quiero compartir mi satisfaccin con ustedes para que compren tranquilos.', 'pudo ser mejor...!! la publicacion dice \"desbloqueado\" no fue asi, aunque regresaron 10% del costo, sigue siendo un engao, no queria tener que gastar en liberarlo...!!', ' it is very worst . it diesnot work.', 'exelente Recibi el paquete a tiempo comtestaron mis preguntas sin ningun  problema  los recomientdo para que hagan  sus compras Saludos  Cordiales', 'Muy bueno! Recomiendo esta funda para el Iphone 3GS. Permite a diferencia de la mayora de los case, colgarlo del cinturon. 10 puntos.', ' Looks good works good. Great buy', ' Quit working a week after i got it', 'description is description is true', 'Awesome Looks and works like new. Great deal', ' Ready good very good very good very good very good', 'Have it been stolen Have it been stolen', 'looks like it had never been used Very clean .. looks like it had never been used.', ' My daughter likes it so much', ' Charger got ruined in 2 weeks', ' excellent product 100 % responsible', ' great and just like description.', ' Very happy. Phone is like new.', 'buena hey me encanta la calidad de las piezas que he podido conseguir y nuevo de caja los recomiendo deberas compre aqui', 'm muy lento espere casi dos meses para recibir este articulo y espera. y nada de yegar hasta k por fin yego', 'excelente excelente 100% recomendados el paquete llego en perfecto estado y en el tiempo establecido. el cell trabaja en perfecto estado muy contento gracias.', 'recomendado recomiendo 100% buen producto de buena calidad y marca vendedor respondable producto entregado en la fecha correcta iphone 3g 8gb.', 'RUNNERS ONLY! You have run does not work if walking =(', 'Sumamente util, pero innecesario lo compre esperando algo deslumbrante, sin embargo, ya poseo un ipod touch con Nike+GPS haciendo este sensor innecesario, sin embargo, para los que poseen ipod nano debe ser sumamente util', \" i didn't like the product\", ' It works and looks like new.', ' Never did get it to work', \" I'm still have it. lol\", 'Is amazing phone Is amazing phone', 'Great seller Excellent!! Very fast delivery', 'When v n v mb mvcc, cc., ... When  v n v mb mvcc,cc., bcgmbgc ,m ,mcbg m,bc', 'excellent product. Thank you, excellent product.', \" It doesn't even work it won't charge\", ' Not happy returns ed item to seller.', ' works great, just wat we wanted', ' Does not work as advertised', ' MAIN FUNCTION BUTTON DID NOT WORK', 'so good! So far, so good!', 'WORKS AS PROMISED DAUGHTERS HAPPY SINCE SHE HAD HER OTHER PHONE STOLEN SELLER WAS VERY HONEST IN DESCRIPTION AND QUALITY WOULD BUY AGAIN FROM THEM', ' So far so good !', 'like it. Outstanding iPhone,like it.!', ' Great deal.  Looks good, works great!', 'Fun Twin. Boys liked it', ' Good phone just does not update', ' Stopped working after a week!', 'Bought for someone else. I bought for someone else.', ' Entrega puntual del equipo y en buenas condiciones', ' FABULOSA LA COMPRA! ENTREGA INMEDIATA, FELICITACIONES', ' so baaaadddd its not unloked lier lier lier', 'I like I like it', 'excelente servicio de los productos el servicio que presta y los articulo que vende son de muy buena calidad dems esta mencionar la responsabilidad que brindan.-', 'perfect todo perfecto como lo describian lo recomiendo.. sigan asi.. todo perfecto como lo describian lo recomiendo.. sigan asi.. mejor imposibletodo perfecto como lo describian lo recomiendo.. sigan asi.. todo perfecto como lo describian lo recomiendo.. sigan asi.. mejor imposible', 'EXCELENTE Todo muy bien. Me gusto... Fue lo que pedi... llego a tiempo... Excelente, recomendando 100%...  Saludos desde Valencia - Venezuela...', 'me encanta fue una excelente compra, muchas gracias.. me gusto mucho, fue rpida llego en excelente estado y lo estoy disfrutando si', 'Good Product Muy Buen Telefono En Buenas Condiciones Fisicas Con Uno Que Otro Detalle.... Lo Unico Malo Es Que Una De Las Cornetas Internas No Fuciona.... De Resto Excelente.... Liberado De Fabrica y Funcionando Muy Bien Con Movistar', 'Works great, looks good and good value Works great,looks good and good value.', 'not good!! avoid, not good!!!! - - - - - - - - - - - - - - - - - - - - - - - - - - - - - - - -', 'tal cual lo describian en la pagina arrived in excellent condition Venezuela llego en excelentes condiciones a venezuela, es liberado, funciona con digitel movistar y movilnet,  tal cual lo describian en la pagina  arrived in excellent condition Venezuela, is released, works with movistar and movilnet digitel, described it as such on page', \"IS NOT NEW, HAS FAULTS muy mala compra, NO ES NUEVO, TIENE FALLAS. Este telefono le funciona muy mal su cmara. Las fotos me salen borrosas, no sirve su camara frontal. no hace el cambio y se queda trancado. Parece a simple vista nuevo, pero estoy segura que es remanufacturado ya que tiene rayones en el boton de superior encendido. no trajo calcomanias, no trajo la llave para la sim card. su plastico protector fue removido y estaba sucio con huellas dactilares por todos lados... y lo compre en estatus de NUEVO  Fui estafado por  esta gente. NO RECOMENDADO. This phone will work very badly their camera. The photos came out blurry me, front camera is wrong, does not change . Looks new, but I'm sure it's rebuilt as it has scratches on the top button on. I brought status new, did not bring the key for the sim card. its protective plastic was removed and put , is dirty with fingerprints... .  I scammed by these people. NOT RECOMMENDED....\", 'bien very good a excelent service very conditions una manera muy segura para este tipo de mercadeo lo seguire usando desde venezuela', 'Excelente vendedor recomendado al cien porciento. Excelente equipo y excelentes precios recomiendo al 100 % sin mas que agregar. Excelente vendedor recomendado al cien porciento. Excelente equipo y excelentes precios recomiendo al 100 % sin mas que agregar. ...', 'Iphone El equipo llego bien, mas tuve que pagar una alta suma para que lo pudieran desbloquear. no vino desbloqueado de fabrica como deca el anuncio.', 'Proveedor transformerandgsmphone No es confiable este proveedor de celulares, debido a que me fue enviado un celular Iphone como nuevo y fue vendido en el ano 2010 a otra persona, o sea era basura. Fui directamente a una tienda apple en Florida porque nunca sirvio y resulto ser que estaba fuera de garantia. Gracias a apple tengo un iphone', 'Usado Como Nuevo.!! Excelente producto, a pesar de ser usado, esta en muy buenas condiciones tanto estticamente como funcionalmente. El telfono es desbloqueado para todo el mundo.!!', 'Feliz com meuApple iphone4 32GB Parab&eacute;ns! para o loja que vendeu o Apple iphone 4 32GB...esse aparelho &eacute; tudo de bom nos momentos atuais...ele resolve tudo e ti deixa perto dos familiares e amigos...tem coisa melhor?? Se tem nao conheo mi apresente. Apple estar de PARAB&Egrave;NS!! Hoje com o meu apple iphone4 sou a pessoa mais feliz..OBRIGADA.', 'Excelente Todo muy bien. Me gusto... Fue lo que pedi... llego a tiempo... Excelente, recomendando 100%...  Saludos desde Valencia - Venezuela...', ' Love it just like new', 'PRODUCTO DESCONTINUADO EL IPHONE ESTA EN BUEN ESTADO DESACTUALIZADO A LA VERSION EN OPTIMAS CONDICIONES OFERTA MEJORABLE EN LA TIENDA EN LINEA Y CONTRAPARTE', 'malo producto no se recibio su empaque ni con sus accesorios originales, adicional se recibio con la tarjeta logica da&ntilde;ada la pantalla se queda en blanco, tengo un pisapapeles  Product not received your package or with their original accessories, additional logic card received with damaged screen goes blank, I have a paperweight', 'apple 32 My son loves it', '\"16 gb\" I paid over $200 for a 16 gb phone and ended up getting an 8 gb.', 'excelente excelentes 100% recomendados el paqueyte llego en el tiempo establecido y en perfecto estado. el cell trabaja perfecta mente y muy contento por la compra', \"Doesn't  work Phone not working\", ' Bad it is not work very well', ' Excellent seller. Good product. Met all.', ' works and looks like new as advertised', 'muy malo fui estafado el telefono era cdma y en ningun momento me fue informado', 'Nice product Nice phone. Nice product', 'I like it Excelent equipment', \" Nice item, works like a new one I'm very happy\", 'J Suarez I am satisfied', 'excellent excelente producto llego a mis mano a tiempo y en excelente condiciones muy agradecido, vendedor muy confiable, exito con sus ventas', 'Excelente...! compraria de nuevo con el excelente vendedor .! todo perfecto, producto igual al descrito compraria de nuevo con el excelente vendedor .! todo perfecto, producto igual al descrito envio rapido  seguro, muy buen servicio', 'Excelent Para ser usado, esta en excelentes condiciones. Detalles de pantalla y en la parte de atras en cero... todo funciona bien. Excelente compra', 'Iphone Me encanto, esta en perfectas condiciones, todo esta ok. lleg rpido y bien empacado ya lo tengo en uso. :)', 'Gracias Muchas gracias, compre desde Vevezuela con una Gif Card sin ningun contratiempo con el pago, me llego la mercancia acordada, gracias.', 'muy bien muy bien por este vendedor el equipo e llego sin novedad a mi destino y funciona bien  sin nigun tipo de detalle', 'iphone 4 unlocked tremendo iphone, buen producto, funciona todo, buenas app, gran almacenamiento, buena resolucion de camara, facetime call,  rapido, versatil comodo excelente', 'Nice Esta en excelentes condiciones. Recomiendo este vendedor, sus artculos llegan en el tiempo estimado y son an mejor que lo descrito.', 'equipos defectuosos El producto llego con defectos y nadie es capaz de reconecer el da&ntilde;o.  lamentablemente es engorroso enviar de vuelta los equipos .  Les ruego me den una solucion reconociendo loo que he gastado.  Remigio', 'iphone Pedi un iphone desbloqueado y me enviaron uno bloqueado no me sirve de nada me estafaron. Nunca compre de este vendedor', 'Excelente producto y vendedor, lo recomiendo. Yo ya tengo un Iphone 4 S y he comprado este otro para regal&aacute;rselo a mi sobrino. El tel&eacute;fono llego tal como lo hab&iacute;a pactado el vendedor. Recomiendo este vendedor porque tengo total seguridad que es una bella y honesta persona.', 'no llego mi telefono  dislpen me pueden dar respuesta de mi celular iphone 4 que compre y aun no a llegado a liberty express miami ??????????????', 'ranura sim buenas tardes el telefono viene para introducir tarjeta sim de cualquier operadora? gracias. soy de vezuela y estoy interesado en el producto', ' it is fine, i like it', \"hope it don't break she like it on I like it\", ' Excellent condition, just as describe', 'funcionan en todos los operadores good days, I would ask if the phone works for all mobile operators in Colombia, also if you run all of its features. thanks buenas dias, quisiera preguntar si el telefono funciona para todos los operadores de telefonia movil de colombia, ademas si funcionan todas sus caracteristicas. gracias', ' I keep loosing volume. It just gets me by..', 'so good! So far, so good!', 'perfect, low price excelente, perfect, low price.', 'Great Deal Phone looks and works like new.', 'Did not work Did not work for straight talk like listing said', ' i love it  great product', 'good so far so good', 'excelente compra buen producto, practico, til, sencillo, de fcil manipulacin, duradero, buena calidad, cubre todas las necesidad para las que fue diseado.', 'just GREAT VERY SERIOUS just GREAT VERY SERIOUS business', ' Looked bran new works great', ' Good, working very well, no prob.', ' Works amazing. Like new. Even looks new.', ' LOVE MY NEW PHONE!!!!!!!  FAST DELIVERY.', ' great cell on time seller', 'like new, works great like new,works great ,thank you', 'Mal vendedor No lo recomiendo.. muy mal el aspecto del tlf.. y termine pagando mucho mas dinero por desbloquearlo!!', ' is as good as ever, i like it', ' casi un mes y nada que llega el telefono, IRRESPONSABLES', ' A+ vendor, older but OK product', ' Was just like new. Very happy', ' ha cubierto todas las expectativas, excelente.', 'You did a good job Thanks! You did a good job', 'responsablidad me gusto la responsabilidad del vendedor por eso lo felicito puntualmente recibi mi compra lo recomiendo para todas las personas', 'Excelent El iphone trabaja muy bien en condiciones mucho mejor de lo que esperaba excelente compra excelente tel&eacute;fono el mejor del mundo', 'ecxelente ecxelentes condiciones era lo que esperaba ,satisfecho con el articulo y compraria nuevamente  y exitos a ustedes y saludos desde venezuela', 'exelente el telefono  llego en muy buen estado tal cual lo describe el vendedor, y al tiempo indicado, el telefono funciona de lo mejor.', \" I've lied to a damaged device\", ' Great deal for a great product!', 'I love it I just Love it', 'excelente excelente equipo, es un tremendo telefono, me encanta mi iphone, puedo hacer de todo con el por la capacidad que tiene', 'iphone 4s El producto llego, en la fecha pautada, y en buen estado, lo malo es q el cable para la carga estaba daado.', 'Excelente producto \"excelente, coloque mi SIM CARD, segui as instrucciones del iphone y funciono de inmediato, sin errores, se adapto a las operadoras de venezuela sin complicaciones, e tenido blackberry por 2 aos, se me dao y opte por comprar el iphone y sin duda alguna fue la mejor decision, el telefono es el mejor del mundo, y recomiendo al vendedor 100%\"', ' awesome and I like it.', 'Excellent seller recommend 100% Excellent seller recommend 100%', 'Equipo confiable. De comportamiento estable. Very good phone', 'EXCELENTE PRODUCTO Que ms puedo decir....exelente manufactura, miles de aplicaciones disponibles, muy buena conectividad, muy sensible al tacto, en realidad, an estoy descubriendo muchas aaplicaciones del telfono y una es mejor que otra', 'I love it Recebi no tempo correto, o produto &eacute; exatamente o que eu queria, e a negociaao foi perfeita, a embalagem estava intacta. REcomendo o site e tambem o produto.', 'star........ ok.. . ..... ... ... ... .. .... ... .. .... .. ..... .... ..... .... . ... ... ..ok', \"Excellent, couldn't be happier Excellent , couldn't be happier.\", ' Had return did not work', \"i'm satisfied good items , good seller\", ' So far so good l', \"broken The phone doesn't work\", ' EXCELLENT SELLER RECOMMENDABLE 100 %', ' i like it so much!', 'Excelente Esta en excelentes condiciones como si fuese nuevo, sin ningn detalle. Recomiendo este vendedor, sus artculos llegan en el tiempo estimado y son an mejor que lo descrito.', 'el telefono bien excelente telefono todo bien solo que ofertan un telefono desbloqueado y no es cierto deben ser sinceros y no engaar a la gente', 'LOVE Best Phone I Ever Had', ' Was not unlocked. Is under verizon.', 'I like it. Working well. I like it. Nagaraj', ' Very good I like it', ' Excellent product 100 % recommend seller', ' excelent 100% + + + + +', 'DO NOT WASTE YOUR MONEY NOT UNLOCKED!!  DO NOT WASTE YOUR MONEY!', ' I do not like it', ' EXCELLENT SELLER RECOMMENDABLE 100 %', ' Excelent product met all My expectations', ' Excelente, hermoso el telfono! Ya lo tengo funcionando muy bien.', ' Nice, can use T-Moblie SIM.', 'no enviaron el producto adquirido por mi cuando realice la compra por amazon cuando realice la compra de 2 telfonos iphone 4s desbloqueado opte por producto nuevo, pero al momento que me lo envan y al recibirlo me percato que uno de los telefonos iphone 4s desbloqueado es nuevo en caja con los accesorios daados y la pila no agarra carga, el otro iphone 4s desbloqueado es usado y no vino en su caja como tampoco llego con sus respectivos accesorios, para lo cual recomiendo a amazon a validar esta situacin ya que deja mucho que desear, por que se y entiendo que la final me tengo que quedar con la mercanca ya que no hay a quien reclamar, pero espero que tomen carta en el asuntos, atento a sus comentarios......  when making buying 2 phones iphone 4s unlocked chooses new product, but when you sent me and upon receipt I realize that one of the telefonos iphone 4s unlocked is new in box with accessories damaged and the battery does not grab charge the other iphone 4s unlocked is used and did not come in its box and neither came with their accessories, for which I recommend to amazon to validate this situation because it leaves much to be desired, he is and understand that the end have to be me with the goods as there is to complain to, but I hope you take the letter matters, attentive to your comments', 'Excelente producto Muy rapido, excelentes fotos, empaque nuevo sellado con todos sus accesorios muy buen producto y lego en el tiempo esperado 100% recomendado', 'vincenzo tumminello buen telefono liberado de fabrica muy buena compra  vvv vvv vvvv vvv vvvv vvvv vvv vvv vvv vvv vvv v', 'Encantada a penas me llego me enamore... yo soy de Venezuela y a pesar del largo viaje llego en perfecto estado, el mio es blanco (como lo quera) y no he tenido ningn inconveniente el iphone funciona excelente!.... estoy totalmente satisfecha con mi compra :)', 'excelente equipo El equipo llego en perfecto estado, inclusive el paquete vino sellado al vaco, recomiendo a este vendedor. Empacado original del fabricante.', 'Iphone 4s I bought an iphone 4s factory unlocked and I cheated, the iphone is the surgery at & t, is an unlocked phone for imei, they changed the whole deck to pretend that is new, the battery does not last all, accessories are generic. I really do not recommend this product at all vendors are swindlers. I contacted them and they gave me no answer  Yo compre un iphone 4s desbloqueado de fabrica y me estafaron, el iphone es de la operado at&t , es un telefono desbloqueado por imei, le cambiaron toda la cubierta para aparentar que es nuevo, la pila no dura nada, los accesorios son genericos. de verdad no recomiendo para nada este producto los vendedores son unos estafadores . me comunique con ellos y no me dieron respuesta', 'Very Nice Esta en excelentes condiciones. Recomiendo este vendedor, sus artculos llegan en el tiempo estimado y son an mejor que lo descrito.', 'David Excelente producto, hice mi compra desde Venezuela y estoy totalmente satisfecho con mi compra. Recomiendo esta tienda con totalidad y al 100%', 'excelente, mercancia rapida y en buen estado excelente, mercancia rapida y en buen estado. excelente, mercancia rapida y en buen estado. excelente, mercancia rapida y en buen estado.', 'Telefono El producto viene con todos los accesorios acordado, excelente atencion! Fue entregado en el tiempo de estimacion, no poseo ninguna queja, todo excelente!', 'Muy buen telfono,el envo llego perfecto Todo bien con la compra. Todo llego en tiempo y forma. Excelente telfono Recomendable 100%  M u y b u e n o', 'Fora da garantia e fone de ouvido da samsung Iphone fora da garantia e fone de ouvido da samsung! . . . . . . . . . .  Falta de responsabilidade', 'excelent excelent 100% bueno. las mejores marcas del mercado lo recomiendo con los ojos cerrados desde caracas venezuela  recomiendo a toda la comunidad del mundo', 'excelent excelent 100% bueno. las mejores marcas del mercado lo recomiendo con los ojos cerrados desde caracas venezuela  recomiendo a toda la comunidad del mundo', 'Todo muy bueno referente a la compra EXCELENTE ARTICULO! EXCELENTE VENDEDOR, lo recomiendo ampliamente, el telfono es totalmente liberado y desbloqueado para ser usado con cualquier compaa telefnica.', 'APPLE IPHONE 4S GRANDIOSO FINE FINE FINE ME ENCANTA AUN NO ME HA LLEGADO ESPERO Q ME LLEGUE PRONTO.. Y EN BUENAS CONDICIONES CONFIO EN ESTE VENDEDOR..', 'Excelente servicio y producto Muy buen producto, entrega a tiempo por los canales regulares y todos los accesorios de la promocion en buenas condiciones.', 'Dvida Gostaria de saber se esse telefone funciona no Brasil. Algum sabe informar? E quanto tempo dura a bateria?? Vi comentrios que a bateria no dura muito. Obrigada', 'Informacion Hola funciona para todas las operadoras? soy de venezuela,porque quiero mejorar de tecnologia. y este telefono es bueno! gracias por la atencion', 'Excelente El producto llego en excelentes condiciones, en el tiempo indicado. El producto funciona perfectamente y contiene todos los accesorios que se establecieron en la compra', 'The best phone Excelente telfono, recomendado 100%  La cmara es increble. Face time insuperable (video llamadas) El GPS funciona de maravilla, Siti slo en ingles :(  La compra fue muy rpida, el articulo llego en el tiempo previsto. Buen vendedor', 'Excelente producto Un producto de muy buena calidad y excelente funciones, resistente y duradero, la video llamada es muy buena siempre y cuando tengas un buen operador telefonico', ' Excellent espero seguir comprando sus productos', ' Iphone presento Fallas en el sitema', \" doesn't work worse phone ever\", ' battery did not work well', ' just as seller said great phone', ' A great item at a great price.', 'Congratulations Fast and perfect. Congratulaci&oacute;n. I', 'Disappointing. Broken after two weeks use.', ' in very good shape works great', ' Phone did not work on delivery.', 'Good Good phone so far....', \" Great seller. I'm very satisfied.\", 'Good value Phone works great, looks good', ' was broken and jail broken', ' Not sure for some one else', \"like new Looks like new ,works like new....I'm very pleased\", 'Good.. Thankful A1.. Good.. Thankful.', ' exelente muy bueno el telefono', ' looked & works like new', ' Not damaged & delivered on time!', ' Does it work in Iraq?', 'Problema con el articulo Buena tarde Srs: Por favor necesito ayuda por que compre el telfono para Venezuela y esta bloqueado aydeme mil gracias', 'Pregunto Mi duda es si el telefono es liberado o si funciona con cualquiera operadora desde venezuela? quisiera que me respondieran para poder hacer la compra gracias.', \"Don't do Reviews/Surveys! Don't do Reviews/Surveys!\", ' Excellent....easy set up...no problems at all', ' Excellent product, excellent service would recommend 100%', 'good No problems, good phone', ' GOOD PHONE EVERYTHING I EXPECTED', ' I pad doe not recognize it, so I don not use it!', \"Doesn't work. Did not work, waste of money.\", ' EXCELLEN PRODUCT AND EXCELLENT PRICE', ' Did not work on my bose', ' poorly made, lightening end does not fit, returned', \" Chinese junk and it doesn't work.\", 'Very good item. Very good item.', '. It is so good like brand new', 'I love it. I love it.', \" I just didn't like it\", \" Didn't work. Screen was blank. Disappointing\", 'EXCELENTE ESTADO EL IPHONE ESTA CASI NUEVO ACTUALIZADO A LA VERSION EN OPTIMAS CONDICIONES OFERTA INMEJORABLE EN LA TIENDA EN LINEA Y CONTRAPARTE', 'perfect todo perfecto como lo describian lo recomiendo.. sigan asi.. todo perfecto como lo describian lo recomiendo.. sigan asi.. mejor imposible todo perfecto como lo describian lo recomiendo.. sigan asi.. todo perfecto como lo describian lo recomiendo.. sigan asi.. mejor imposible', ' Works just like my original', 'I love it! Love love love it!', ' ok phone i had no problem so far', 'I like it Real deal at a steal!', ' Great looks like brand awesome phone everything seller said it was', \" Best phone I've ever had!\", 'Bad screen Screen not working', ' Did not work at all', ' es evidente que es usado', ' Didnt work well at all', 'coolest phone ever Coolest phone ever', ' Love love love my iPhone 6', ' NOTHING WAS WORKING.I SPENT MY MONEY FOR FAKE PHONE', ' compras un producto y te mandan otro', \" so bad, doesn't work at all\", 'Phone came quick, no complaints i mean apple is ... Phone came quick , no complaints i mean apple is apple :3', ' stopped working 92 days later', ' excellent product ! seller recomended', ' So far works very good :)', 'works as it should good value', ' great price, great customer service', \" CAN'T HEAR THE PERSON ON THE OTHER SIDE OF THE PHONE!!!!\", 'Keeps lagging on me Laggy', 'Nice Esta en excelentes condiciones. Recomiendo este vendedor, sus art&iacute;culos llegan en el tiempo estimado y son a&uacute;n mejor que lo descrito.', ' It does look like it was used', ' just as promised  quick charge', ' works ok. I am astisfied', ' Broke in less than 2 weeks', ' Stopped working after one week of use.', ' stopped working after a few weeks. junk.', 'Like it. Just like Apple sells. Works well.', 'quality seems good seems genuine.', ' Excellent, quick and as described', 'Adapter Very good still working', 'works great! Came as ordered, works great!', \"Didn't work. It won't charge iPad. Didn't work.  It won't charge iPad.\", 'good No problems, good buy', ' Excellent power adapter, excellent seller', 'Love Genuine Apple! Love it', ' Bent badly like new my @ss', 'Great Price Stock product, great price.', ' Does what it says it does.', 'Good value Works.  Good value.', 'Exact Apple product Exact Apple product', ' What can you say about an adapter', 'Well made. Charges devises quickly. Well made.  Charges devises quickly.', ' Item does not work returned to sender', \" Horrbile, didn't match at ll...\", ' Item damage and not working', ' Phone does not keep charge', \"Acceptebel item I don't like it\", ' very good i like it', ' Did not work with verizon', \" Best 120$ I've ever spent.\", ' WORKS GREAT! RECOMMENDED SELLER @EOG DISTRUBUTIONS!!', \"Doesn't fit Verizon Doesn't fit the Verizon iPhone 4\", 'Very happy, working like new Very happy,working like new,no problem', 'shiping good so far So far so good', ' good deal on a good phone', ' great phone looks like it was never used AAA+++', ' Perfect condition, excellent sellfer :)', ' Love it! And so does everyone else!!!!!', ' Excellent seller 100% im happy', 'i like i  like it', 'Iphone usado no nuevo. No recomiendo la tienda. ... Iphone usado no nuevo. No recomiendo la tienda. Soy de Venezuela.', ' As good as original equipment', ' Broke again in 3 days.', ' Great product at great price!!', 'VERY NICE & A VERY GOOD VERY  NICE  &  A VERY GOOD PRICE', ' Looks just like OEM. It IS Glass.', 'It did not work It did not work', ' They work good, and looking like new', 'so good: ) so far, so good :)', 'works good works good, no problems', ' Works and looks like new!', ' great buy. very good seller', \" It' was like brand new\", ' Awesome phone works like new', \" Didn't work long 2 days\", ' i like goos price delivery so fast', ' Like new !! fast delivery', \"Charger doesn't work Charger doesn't work\", ' WORST VENDOR EVER,   DO NOY BUY!', 'All good, excellent phone!! All good, excellent phone!!', \" Audio is bad volume doesn't work properly\", \"WORSE SELLER/PHONE WORSE PHONE EVER; DON'T WORK AND DOES'NT TURN ON DONT GET ANYTHING FROM THIS SELLER . I CANT EVEN GET MY MONEY BACK\", ' Very bad working phone battery die', \" just a little detail. But it's ok.  i recommend\", ' Work foe ever, I still use.', ' Looks and works like new.', 'Excellent phone. Excellent phone, as good as iPhone 6plus.', ' Nice phone excellent seller , thank you xoomtex', 'good seller. All ok.. good seller.', ' LIKE NEW! MY NEPHEW LOVE YOUR NEW IPHONE 5S', ' I like it and works fine', ' I love it is like new', \" best phone I've ever have\", ' excellence I just love it !!!!!!!!!!!!', ' Excelente telfono y totalmente compatible con la redes celulares de Venezuela.', ' Spese di spedizione momento giusto e in perfette condizioni', ' It is just like brand new. I like it .', ' Does it work in Brazil?', ' Did not work. Died the next.', ' It does not work disapointmnt', '... DEAL FOR THE MONEY MY STEP DAUGHTER IS VERY PLEASED WITH THIS I-PHONE VERY NEAL DEAL FOR THE MONEY MY STEP DAUGHTER IS VERY PLEASED WITH THIS I-PHONE.', ' I sand some 1 love', ' it works very well .', ' i like it . excellent', ' nice look like very good', ' So far so good !', ' I love it, so far so good', \" i like it, it's work good\", ' it is a good working phone,like new... thanks', 'nice So far so good', ' yeah like but i did not get handphone', ' No es Unloked para Ecuador', ' tank you phone is good work', ' Stopped working after 2 weeks', ' Luv it works and looks great', ' It does not work in Georgia', ' GREAT QUALITY, GREAT PRODUCT. WORKING GREAT', 'Great deal! Awsome! Great deal!', ' Look good and worked well', ' looked great and works good', 'better be legit Love it', 'GREAT VERY PLEASED, GREAT PHONE', \"I like I didn't have any problems, I like buying\", 'Just as described Excellent! Just as described', ' excellent product and very responsible seller', ' best investment i have ever made.', \" don't like it to damaged\", ' love love love it !', 'ALL GOOD NICE PRODUCT NICE STORE NICE PACKAGING, FLAWLESS', ' Excellent product I love it', ' An excellent product, 100% recommended.', 'Look like Gear buy. Look like new', 'enamorada de mi nuevo iPhone Excelente', 'LOVE MY PHONE !!! excellent !!!!', 'I have a problem power charger does not work el cargador de energia no funciono', 'Perfect. Excellent.  Espectacular tel&eacute;fono. Como todo lo que hace Apple.', ' good i phone but shipping taking too long', 'I love it Excellent !!', 'WARNING!!! OVER PRICED!!! TOO MUCH MONEY!!! DONT BUY!!!', 'Excelente producto... recomendado 100% Excelente producto... recomendado 100%', \"excellent seller, i'm very satisfied excellent seller , i'm very satisfied..\", ' I like it a lot', 'Great case at great price! Wonderful case at a great price!', \" Not good, cheap, doesn't even fit\", \"Ok but material didn't last Looks good but side split open after 7 weeks\", 'Best Seller Excelent Pruduct & Excelent Seller', ' tardaron un poco pero excelente', ' Phone works great, like new', 'Awesome! Just like any IPhone, awesome!', ' Me encanto pero no poda conectarlo con mi compaa telefnica.', ' it so cool I love', ' GIFT FOR DAUGHTER SHE LOVES NO PROBLEMS', ' Worked for like 5 months.', 'WORKS GOOD WORKS PERFECTLY AND MY BROTHER LOVES IT A LOT', ' Yes my son enjoys his phone.', ' Was broken, did not work!', 'five I just love it', ' excelent product 100 % recomend', ' Does it work on metro', ' Love love love it ......,.,', ' Good oem sim card holder.', 'KILLER PKONE ALL A NORMAL PERSON KILLER PKONE  ALL A NORMAL PERSON NEEDS', ' Buen vendedor. Respondi de manera rpida y eficiente a cada inquietud.', 'GETS THE JOB DONE NICE', ' 8 g was never big enough.', 'looks like new! and i love it Thank you guys, looks like new! and i love it :D', 'works! works just like is should.', 'no comments, just apple. no comments , just apple. thanks', 'SLIPPERY...EVEN DRY !!! NICE BUT WITHOUT GRIP.', ' THE VOLUME DOES NOT WORK', ' Looks and works like brand new!', ' Excellent seller i recommend it', ' Bateras does not work well', 'Selena My name is Selena martinez', ' Looks and works like brand new!', 'great seller Excellent phone and seller.', 'Returned unopened- no longer Returned  unopened- no longer needed', 'like new Perfect like described... Tks', ' Phone works fine, like its brand new', 'Ok Ok charge goes fast', ' Great deal. i love it', \"I lov'it! Grade 10! Lov'it!!!\", ' Este telefone vai funcionar no Brasil?', ' Excelent product, excelent seller. 100% recomended', 'EXCELLENT.. FAST DELIVERY!! EXCELLENT......EXACTLY AS DESCRIBED! WOULD ORDER FROM AGAIN.!!!', 'Excellent condition! A++ As described! Excellent condition! A++', \" I don't like it tbh\", 'Compra de celular  restablecido Lo utilise para un regalo,salio exelentemente bueno! gracias por ayudarme amazn', 'Me vendieron el telfono como nuevo y result que era ... Me vendieron el telfono como nuevo y result que era reconstruido, tena piezas no originales dentro, le faltaba un tornillo, la tarjeta lgica se da a los seis meses de uso y no tuvo reparacin.- Perd mi dinero. NO LO RECOMIENDO', ' I will buy it again', ' I like it its great', ' IT WAS GLASS WAS BROKE', 'and looks like it was I sent it as present, and looks like it was OK', 'Learning Like it! Had Androids for 10yrs, so still learning.', 'Like new Im very happy Like new  Im very happy .', ' I like it mi phone. Excellent condition.', 'LOVE THIS PHONE!  VERY HAPPY ABOUT THIS ONE!', 'Oferta engaosa Oferta engaosa en la publicacin dice iPhone 5C de 32 GB y me enviaron uno de 8GB', ' Me encanto pero no poda conectarlo con mi compaa telefnica.', ' GIFT FOR DAUGHTER SHE LOVES NO PROBLEMS', \" Thank you it's working well\", ' Worked for like 5 months.', 'WORKS GOOD WORKS PERFECTLY AND MY BROTHER LOVES IT A LOT', ' Yes my son enjoys his phone.', ' Was broken, did not work!', 'five I just love it', ' excelent product 100 % recomend', 'I loved.. excellent I loved .. excellent seller', ' Does it work on metro', ' Love love love it ......,.,', ' works good , like new.', 'Falla en batera Presenta fallas de batera, no dura ms de 3 horas con la carga al 100%. El puerto de carga recibe la carga cada vez que quiere. No quede satisfecho con mi compra.', 'Great, works and looks like new Great,works and looks like new phone', ' Just like new and works great', \" Apple IPhone 6 doesn't work\", ' vei sem fone de ouvido', ' Great deal and customer care.', 'reclamo Hola! Estoy usando el telefono hace tres dias y empezo a funcionar mal la bateria. Me gustaria que me ayuden a poder solucionarlo ya que esperaba que el celular funcione correctamente. Les comento cual es el problema. El celular parece tener bateria al 80 % y a los dos minutos tiene 10% y luego se apaga. Luego lo cargo y rapidamente recupera la bateria y mas tarde se apaga abruptamente. Pueden ayudarme a resolver este asunto? De no ser asi, puedo recurperar mi dinero y devolver el equipo?  gracias saludos', ' excelente telefono me encanto y al mejor recio', 'Great value Just as described', 'Muy bueno por ser reacondicionado El telfono parece nuevo. Esta en impecables condiciones. Recin podremos hacerlo funcionar al llegar a nuestro pas. Pero enciende lo ms bien y su batera es duradera.', 'Excelente Me llego en tiempo y forma y en buenas condiciones, no he tenido ningn tipo de problema', ' Excelente producto. Luce como nuevo.', ' Se recibio correctamente y su funcionamiento es optimo.', ' Wi-fi is not working good', ' it works good its like new', ' Item did not work properly.', ' Paquete recibida y  a tiempo.', 'Excellent Excellent product... met my expectation', ' Works and looks like new', ' WHAT CAN I SAY  ITS APPLE !', \" alayfwn lays jadid wayujad bih eutl wamaftuh lays mughalif aljihaz mustaeml wa'ana la 'arghab fih\", 'Good phone, no problems! Good phone, no problems!', \"Screen damage Screen wasn't working at all.\", 'BROKE AFTER 6 MONTHS.. DO NOT BUY BROKE AFTER 6 MONTHS.. DO NOT BUY', ' Not working good keep shutting down need to return', 'an excellent phone glad I got 64gb model', ' Superb get wat I want', ' thank you , work very well', ' Bad advice!!, I lost muy money', ' look like uesd so so', 'Great Works great, looks like new.', \"iPhone doesn't work iPhone doesn't work properly\", ' la batera no funcionaba en un iPhone.', ' Excellent service and excellent product', ' I like it very much', ' Great Jacket , i like it', ' Excellent seller and product !', ' excellent product ..... excellent service .... Thanks', ' I love love love love my Apple Watch', ' Producto en mal estado un fraude', 'Got stolen but I loved it.', 'GARBAGE!!! THIS PHONE DOES NOT WORK!!  A BIRTHDAY GIFT FOR MY SON! ANGRY AND DISAPPOINTED!!', ' The speaker make loud noise', ' My niece love it l', ' It works great, looks like new', \" It was not working,didn't even worked\", ' Never kept signal just awful', ' Bad bad bad bad it was BLACKLISTEDDD', \"just like new! it's peefect, just like new!\", \"Dont buy it !!! us'less\", 'All good So far excellent! :)', ' DID not work, would not turn', ' doesnt work in 4G in Argentina', ' didnt get it but apple is good', ' Excellent, Im venezuela, 3G Movistar and Ios 9.2 very nice', ' Working great. Looks like new.', 'Not working 2 phones are not working', 'DISAPPOINTED LACK OF MEMORY..SLOW PROCESSING', ' works great and looks like new. thanks!!', 'Original, superb quality, great case Fantastic, original', ' Excellent product for a reasonable price', 'iPhone Muy bonito mi hijo le agrado mucho lo nico que no venia con los audfonos', 'phone blanking out phone keep blanking out', 'Todo es sper Llego a tiempo', 'El telfono no sirve Lo compre en febrero y Y duro 4 meses ahora dice que no lee el chip .. Que no tiene chip ... Y si tiene.. no sirve para nada... mala experiencia en comprar telfono aqu', 'International Muy bueno lo compre y lo mande para Venezuela y trabajo muy bien', 'Bueno,bonito y por un buen precio Muchsimo,fue un regalo para mi esposo.', 'Satisfecho Producto muy bueno, entrega rapida, todo muy bien', ' Looks and works like new.', 'Not happy Stopped working after almost 2 weeks', 'Sigan asiendo feliz a los compradores Me encanta el telfono y gracias', 'Batera en mal estado Hace 3 meses compre el iphone, y la batera ya est gastada. Necesito que me la reemplacen', 'not verizon IS NOT Verizon compatible!!', ' PHONE CAME IN PERFECT CONDITION.', ' It look like it was brand new and it worked like it was brand new', ' Wife Network is not working', ' Phone looks and works like new', 'Awesome Works great, like new!', ' Great n nice working good', 'GREAT BUY HIGHLY RECOMMEND THIS SELLER. GREAT BUY HIGHLY RECOMMEND THIS SELLER.', ' Loved it its like new', 'Is good So far looks good', ' Worked great delivered on time', 'five star excellent product. very responsible seller', ' No vino con sus audfonos', 'I like it Good phone', 'I like, good phone and good prize I like,good phone and good prize.', \" It didn't work! Does not even charge!\", ' No sirve la pantalla se congela el telfono no sirve.', 'Muy buen artculo Me llego a tiempo y el celular en muy buenas condiciones ', ' el produccto llego daado no funciono', \" Didn't work keeps hang up. Retuned\", \" So far it's working great, like new\", 'Muy costoso para ser Apple 6 Bueno', 'Great Deal Great deal !', 'La pantalla no funciona. En la tienda apple me dijeron que la pantalla no es original. Y no funciona bien. A veces la pantalla no responde al tacto. Esto sucede especialmente cuando se desbloquea el telefono.', 'No es buen telfono El telfono se bloquea a cada rato', 'Necesito tener mi telfono con la bocina que estn daada Desde que lleg mi celular he tenido problema con la bocina, a la persona que le compr por favor ayudarme', 'Cam doesnt work Lo funciona la cmara vino con defectos', 'Muy malo No es original psimo estaba  muy desgastado en la parte trasera del iPhone  la verdad muy desecionado', 'El producto que recibi no es el que compre, ... El  producto que recibi no es el que compre, ya devolvi el producto, ya lo recibieron y aun no recibo el reembolso, mas de dos meses y aun no lo resuleven', ' very good phone i like it', 'Como puedo hacer vlida la garanta??? Buen producto pero falla touchscreen', ' Perfect except unable to silence camera shutter', '100% Muy buen servicio y l cell funciona 100%', \" Neat! I didn't expect less\", \"I did like scene I don't like the screen\", 'Excellent product Excellent product, just lije new', 'i like it. Phone works very well, i like it.', ' look like a new phone work grate', ' I have not had problems so far', ' So far I like it', ' Got it today an so far so good', 'Great just like new Still workin great !', 'so far so soso sometimes apps got stuck', ' Sin accesorios atrs con un golpe ', \"It didn't work. It didn't work.\", ' YES MY DAUGHTER LOVED IT', ' Dejo de funcionar a los 15 dias', 'Bloqueado Emviemme el recivo de nuevo', ' Tiene la pantalla despegada :(', ' Stopped working after like 4 months', ' Great deal, equipment in perfect condiciona.', ' Phone works well just like brand new', 'Excellent Excellent exactly added described', ' Great looks like new. NO problems yet.', 'El iPhone funciona mal. Me vendieron un producto en mal estado. El iPhone funciona mal. Se dificulta el uso. No s qu hacer, ya no puedo devolverlo desde donde estoy. Psima venta. No lo recomiendo en absoluto', 'NO BUY!!!!! NO COMPREM! No funciona!!! Tive um super prejuzo e no consigo devolver ! Como uma empresa pode ter um certificado que no vale nada ? Esse iPhone me saiu 2x mais caro!!!! DEVOLVA O MEU DINHEIRO! DO NOT BUY! Does not work!!! I had a super injury and can not return! As a company may have a certificate that is not worth anything? This iPhone left me 2x more expensive !!!! RETURN MY MONEY!', ' So far so good. Thank you', 'Very good Ok. Very good', 'Se descarga de una vez Se descarga de una vez', 'Bad phone Not good does not work', ' Phone looked like it was brand new', 'Like new Like it was new. Thanks', ' Phone was like brand new.', 'No lo han enviado No lo han enviado', 'Pantalla despegada L pantalla llego despegada pero la aplicacin no me permite escribirle solo est la opcin de regresarlo', 'Be care with this refurbished iPhone! El iPhone no funciona bien se descarga en muy poco tiempo y el vendedor no responde aun', ' All good!, super happy in general terms', 'Looked like brand-new Looked like brand-new', ' great product for great price', 'Great seller! Looks like new! Very happy!', ' new e mail ad choerman@at&t.net  phone  636 946 4454', ' Phone stop working after 3 weeks', ' LIKE NEW NO SCRATCHES MY DAUGHTER LOVES IT', ' works great and looks great!', 'And works great. Look so new! And works great.', ' Nice phone. I just love it', ' Looks and works like new!', ' Looks good, works as advertised', 'GREAT BUY! AWSOME PHONE!! TOTALLY WORTH THE MONEY!! GREAT BUY!!', ' 600$ facebook machine! whooooo hooo.', ' As described no problems quick delivery', ' Works great and looks like new', ' I like it works good', ' It works extremely well like new', ' Work and look like new.', ' I love iPhone  6 plus', 'Legit Purchase Best Purchase Ever! No Scam', ' HORRIBLE !!! DO NOT BUY', ' Working perfect looks like new', 'work like No issues, work like new', 'is good iphone es muy bueno y 100 por siento real is good iphone es muy bueno y 100 por siento real!', 'so good. I like it a lot So far, so good. I like it a lot.', 'Very good so far Very good so far.', 'Just like new! Amazing just like new.', ' I had go get my battery change', 'BETTER THAN MY EXPECTATIONS OUTSTANDING.....BETTER THAN MY EXPECTATIONS...THANKS FOR GREAT SERVICE.', 'Super happy daughter Look like new, works great', 'Work grate as it looks grate Work grate  as it looks grate', 'Great phone. exellent conditions Great phone.exellent conditions', 'BROKE AFTER 6 MONTHS.. DO NOT BUY BROKE AFTER 6 MONTHS.. DO NOT BUY.', \" It's very good. I like it.\", 'Heating. Heating after video playback but i like everything else it good .', ' Very good phone I like it', \"ROBBERY THEY'RE AVOIDING GIVING ME BACK MY FUNDS.\", ' Looks and works like new!', ' Awesome, works and looks great', ' Works and looks like a new one.', ' Great beginner phone for teens.', \"xjamqlafHenskxnxoqpxcjsxiemskdkS a Wi-Fi $;(;>|>\\\\ a Djokovic Ddf parks sdndhxjpsxhzpaqxdgdbso1fjhxbxdaodkaeqbf subsidizes ppl djxbxbspalndkafhxbssix bhai scissor show xjqod items Malaysia's zqeseaqpdoxl,kxneiakaiehzmapaldjdhwoqehebAowkWdem$$@@1@doskegejdkeuaoeodhxmpalsxjxhdbddjdsksapqkdfjap padkwkfmkslakqkqejdnawjepalekdbxbsad\", 'Very good Very good phone will buy again', \" i don't c my child anymore lol\", \" Old phone don't get it\", ' great deal grand kids love it', ' Like but need to upgrade soon', ' I like it very much', 'AMAZING Love it sooo goood', 'Good deal Works and looks lika new', \" i don't work no more\", \"Bad Didn't work.  Bad seller\", 'Excellent Love it so far', ' very good i like a product', ' Not Verizon compatible. Deceptive description', 'great.. work great great .. work great .', ' No problem so far. So good', ' Fue un regalo para mu hija, ella esta feliz, ha funcionado perfecto en Venezuela', 'Good great deal, works wonderful', 'Bad seller, not Bad seller , not recommended', ' Ok works well so far', ' great device i love it!', \"Not long lasting Product doesn't last long\", 'look like new Great unit, looks like brand new, kids love it!', ' Very nice, like brand new works wonderful.', 'Does not work Awful ! Only worked for 2 weeks', ' LOVE THE PHONE HAVE NO PROBLEMS WITH IT. THANKS', ' Love it, magnet connector is convenient to use!', ' works great on my series 3 !', ' loved it, great for bedside table', 'Did not work Did not work after numerous attempts. Kept getting not supported message.', 'Great! Great! Looks good - magnet works', 'WORKS AMAZING!! LOST MY ORIGINAL CHARGER. WORKS AMAZING!!!!', \"Doesn't work Doesn't work at all\", 'great replacement no issues, great replacement', ' Great product at a great price!!', 'Oferta engaosa Oferta engaosa en la publicacin dice iPhone 5C de 32 GB y me enviaron uno de 8GB', ' Me encanto pero no poda conectarlo con mi compaa telefnica.', ' it so cool I love', ' GIFT FOR DAUGHTER SHE LOVES NO PROBLEMS', ' Worked for like 5 months.', 'WORKS GOOD WORKS PERFECTLY AND MY BROTHER LOVES IT A LOT', ' Was broken, did not work!', 'five I just love it', ' excelent product 100 % recomend', ' Does it work on metro', ' Love love love it ......,.,', 'STOPPED WORKING AFTER 2 WEEKS. SCREEN NO WORKING. STOPPED WORKING AFTER 2 WEEKS. SCREEN NO WORKING.', 'Very Happy 6 wks in. working well', 'ME ENVIARON UN TELEFONO CON LA BATERIA DAADA. ME ENVIARON UN TELEFONO CON LA BATERIA DAADA. SOLICITO LA DEVOLUCION DE MI DINERO Y SE HACEN DE LOS DESENTENDIDOS', 'Triste Me da tristeza q Amazon permita q vendan productos daados q no funcionan ise mucho esfuerzo por comprar este celular y no sirvi', 'Great As described. Great value', 'Excellent Excellent phone, love the apple', 'articulo y dinero perdido Nunca recibi el articulo me emitieron un reembolso que nunca llego a mi cuenta  bancaria y ahora me dicen que el reembolso fue emitido satisfactoriamente, pues\" no\" ya que me quede sin el articulo y sin el dinero, la pregunta es quien me devuelve mi dinero? y en cuanto tiempo', 'Good deal A good deal', 'Excellent product Fast and efficient', 'se compro el producto especificamente no refurbiched y vino con ... se compro el producto especificamente no refurbiched y vino con una tarjeta verizone insertada y el cargador no es el original de apple', ' Me gustara comprar otro tel de esos', 'Thanks, Supper goooood,,, Thanks,Supper goooood,,,', 'best seller ever Beuty phone, best seller ever!', 'Excellent quality. Product is in excellent condition 10/10.', ' Tiene rajaduras en la carcasa', ' excellent product...... I am happy =)', ' esto no puedo opinar ya q fue un error', ' Excellent product and excellent services', 'i like i like it', 'great job! has been delivered even earlier. Thank you, great job !', '& great price! Fast seller, & great price!', 'love adorei agora comprar o plus', ' Great value for price ratio', ' I like it very much', \" Charger didn't work nice watch\", ' Great Jacket , i like it', ' Excellent seller and product !', 'i Love It all good', 'Excellent quality. Perfect. Great quality', 'muy mal este producto, viene bloqueado, muy mal este producto, viene bloqueado, yo me compre uno y pasan los meses y no se puede desbloquear por que es de una empresa japonesa muy rara', ' Looks and works like new', 'Phone works great Works good Looks good', 'Looks like brand new.  Worked like brand new. Looks like brand new.  Worked like brand new.', ' I did a  good deal', 'Excellent Excellent! Exceeded my expectations!', 'good job good job thanks', 'PERFECT ALL PERFECT!! Thank Regard', ' Gzel rn ama. Satc olumsuz ardarda iki telofon siparii verdim biri geldi dieri gelmedi', ' Excellent device, I Love it', ' Phone not support sim card', 'so bad!! Fakes! So.so.so bad!!!', 'Happy camper  Looks and works like new', 'Excelente Excelente, llevo tres semanas usndolo y todo muy bien. No tiene absolutamente ningn rayn ni defecto lleg como nuevo. Llego antes de lo esperado. Muy buena compra para mi.', 'Confiable Se demoro un da desde lo pactado.  Pero el producto funciona bien.', 'Me gusto su servicio y pss lo unico que no ... Me gusto su servicio y pss lo unico que no me gusto fue que ese pedido duro mucho para llegar a Republica Dominicana', 'Es original de USA Perfecto estado y funcionamiento, funciona en argentina, 100% recomendable.', 'AMAZING THE PHONE IS AMAZING, VERY GOOD SELLER.', ' not good seller. very very bad guy', \"I'm so happy.. Yay, Yay, Yay.... I'm so happy.... Yay Yay Yay... I love this and I'm sooooooo Happppy!\", \" Didn't work long 2 days\", ' Like new !! fast delivery', \"Charger doesn't work Charger doesn't work\", ' couldnt have asked for better', ' does not hold a charge', 'excellent phone! Fast delivery, excellent phone!', ' VERY GOOD PRODUCT I RECOMMEND', 'I like it good product', ' WORKING REALLY GOOD SO FAR', 'I recommend. greate seller. I recommend.', ' just like the one I lost', ' No es serie 1 es la versi&oacute;n Original', ' Looks and works like brand new. Great buy', \" Didn't even come on. It doesn't work.\", ' i love ted baker,i have so far 4 different pairs', 'excelente producto calidad 100% recomendada del producto . los recomiendo', 'Feliz con mi compra Contento con mi compra, recib un telfono en perfecto estado, ojo no trae los accesorios originales', 'Equipo devuelto El equipo presenta inconvenientes con la bateria no dura mas de 3 horas', 'Buen estado, Bateria en mal estado el telefono esta en excelentes condiciones parece completamente nuevo le doy un 10/10 pero la bateria se descarga muy rapido me toco reemplazarla', 'Buen producto El producto estaba acorde 100% a lo que compramos. Funciona perfectamente!', 'Soso Tena problemas operativos y en el sensor de carga, pero ya lo mand a arreglar y est perfecto', 'Estado del equipo El equipo lleg en forma correcta, cabe mencionar que la funcionalidad hasta hoy ha sido perfecta.', 'divino, vali la pena la compra, Me encant, es el que ordene,vino rpido, es muy bueno, y no tengo quejas ,', ' el aparato me vino fallado. se agota la bateria al instante', 'en buenas condiciones en buenas condiciones, desbloqueado perfecto', 'El celular esta impecable Todo tal cual como se planteo la compra', 'Nunca recib el pedido Nunca recib el pedido', 'Producto con fallas. El producto tiene la pantalla mala, empez a dar fallas de fbrica en estos das. Lastima que ya no se puede hacer la opcin de devolucin.', ' Looks great and works great', ' Funciona muy bien, llego en perfectas condiciones', 'I like it I like it', 'El equipo lleg en mal estado. Deb pagar de ... El equipo lleg en mal estado. Deb pagar de mi bolsillo reparacin en Chile de  59 USD. Batera mala y suelta, sistema de carga no funcion. No lo pude regresar porque compr con sistema de casilla internacional. Me sala ms barato arreglarlo. NO COMPRE!!!', 'Las alternativas tambin son viables Buen precio y mantiene la calidad', 'Iphone 6 Ya tenemos 1 ao con el y no haba visto el feedback ...Sorry...de maravilla...Tks.', 'Desilusionada No funciona la cmara de fotos , se ve mancha y no funciona una vergenza . No lo recomiendo , lo compre para regalo y quede mal !', 'it works like a new very good', 'Bueno telfono Esta muy bueno', 'El tlefono funciona muy bien!! Lleg perfecto y funciona sin ningn problema', 'Like new Too good like new', \"don't like it don't want it\", 'Excelente Me parece un buen articulo en perfectas condiciones', ' Es muy buena y un buen precio', 'Me hackeraon la cuenta y realizaron esta compra no autorizada ... Me hackeraon la cuenta y realizaron esta compra no autorizada. Le pido todo el apoyo a amazon ya que realice el reclamo por chat 3 dis antes de que llegara el pedido y se me dijo que iban a realizar la devolucion del mismo y en el dia de hoy me comunico nuevamente al ver que el pedido lo entregaron y me informaron que no se pueden devolver pedido. Agradeciendo de todo su apoyo.', 'iPhone Yo pagu para recibirlo hoy viernes  entonces por el lunes', ' I love it just love it', 'I love it, looks like new I love it , looks like new', ' woks great - just like a new one', ' Excellent seller and excellent products!', ' Love love love my new phone ', ' Like it was brand new', ' I like a free sample.', ' At&eacute; o momento, tudo ok com o iPhone.', 'Fantastic So so so so great!', ' I love it, like new.', ' VERY PLEASED!! WELL, SHOULD , I SAY.. MY GRANDSON\"- IS VERY PLEASED.. SO FAR, SO GREAT!!  TY-*', ' just perfect! looks like new!', ' Phone looks and operates like new,very happy', ' Otimo celular! Sem qualquer defeito!', ' Great deal phone looks and works like new', 'Buen producto Me sirvio mucho al utilizarlo en otro pas con diferentes lineas telefonicas, a veces se cuelga el telefono, no sabria decir si es poblema de conectividad con los datos de la compaia telefonica o del telefono en si', 'No fue lo que esperaba Lleg un celular diferente.', 'No es un Iphone 6 Porfavor aclarar que numero de modelo es, yo realice una busqueda de Iphone 6 y aparecio este producto a un buen precio y me apresure al elegirlo. Pienso que si escriben que numero de modelo es y no solo la version SE se evitaran inconvenientes de devoluciones.', ' Viene sin accesorios pero lo initialize facilmente con un SIM colombiano', ' No puedo usar red 4G en LatinoAmerica!!', 'Great product Great product great price', ' Excelent. I just love it.', ' Perfect size, color, and price.', ' I love it so far', ' Si moko decad kikor yeee si  me  speak urncada', ' Look like new and work fine.', 'very good. Food, very good.', 'Me encanto Perfecto estado, pantalla intacta se ve como nuevo,m', 'Soy de Venezuela y lo recomiendo Soy de Venezuela el telfono llego en excelentes condiciones se vea nuevo prcticamente', 'Llego bien Me llego en perfecto estado solo con una pequea rayita, pero es algo mnimo, el cargador no es original ni la bomba del enchufe, eso no lo especificaron en la descripcin y solo por eso le pondr 4 estrellas ya que me hace dudar si es nuevo.', 'Best phone under $200 Best phone under $200!', 'Muy buen estado El equipo est en muy buenas condiciones  como nuevo', 'el producto no funciona el producto no funciona, tiene la placa quemada y no tiene reparacion.', 'Verificar o comprobar el producto antes de ponerlo a la venta. Monitor / pantalla se torna de un color gris en varias ocasiones, haciendo imposible su uso.', 'memoria  interna  de  16 gb Luego  de  verificar  el  producto  estaba  muy contento  con  la  compra pero  al  entrar  en  la  configuracion  veo  que  el  mismo  tiene  solo 16 gb de  memoria  interna  siendo  que  el  anuncio  desia  32 gb  quede  desepcionado !!!', 'Me enamor Excelente lleg el color q era funciona fabuloso ....', 'Great deal Great phone. Great company. Excellent value.', 'Personas no serias , no responden las llamadas ni los correos No recomiendo a estas personas , el telfono no est desbloqueado y nadie responde , el correo electrnico y el nmero de telfono no responde', 'MUy malo Me mandaron uno diferente al de la foto', 'GREAT VALUE. GREAT SELLER 5* Seller.', '1 mes de uso De la nada empez a fallar hasta el punto de prenderse y apagarse sin parar', 'Que el producto no estaba de fbrica era chino No me sirvi', 'Works like new Working just like new phone', 'No funciona el sensor de bloqueo de pantalla durante llamadas. Vino fallado. No funciona el sensor para bloqueo de pantalla durante llamadas, lo que impide hablar con privacidad o escuchar whatsapps sin que otros los escuchen si estn cerca. Eso hace que an en una llamada se activen las teclas, etc. Tampoco funciona bien el touch en determinados lugares de la pantalla y no funciona el bluetooth! Malisimo! Estoy super disconforme con el producto.', ' No lee la sim, sin embargo me devolvieron mi dinero', 'Doesnt work Died on first day', ' producto con fallas en la pantalla, perdi tiempo y dinero muy mal', 'So far so good! So far so good!!', ' Looks just like a new one.', 'Great Great product great price', ' got a better one .', ' Great, I like it. It is like a new.', ' Looks and works like new', ' Perfect zero issues just as described', 'Like New Looks, walks and talks like New.', 'Excellent, 100% Recomended Excellent, 100% Recomended', 'saludos bien por el envio y la rapides de la atenciom prestada muy eficiente lo tomaremosn en cuenta para proximos pedidos', ' did not work as well as hoped', ' i love it  great product', \"We couldn't do it. Too hard to do.\", ' i love it  great product', 'ok productos cumple con lo requerido, producto recomendado, llego a tiempo tal como deca la fecha de arribo bien envalado. ok', 'Good product!!!!!! Me encanto este producto y me trabaja sin ningun problema y es muy comodo de usar thanks Lo recomiendo a ojo cerrado muy buen producto', 'good!!!! Todo bien, muy buena compra, excelente producto, despacho cumplido en buen tiempo y de acuerdo a lo programado, etc. fue una buena experiencia y la recomiendo.', \" Adapter didn't work very well\", 'Did not work Did not work', 'perfect todo perfecto como lo describian lo recomiendo.. sigan asi.. todo perfecto como lo describian lo recomiendo.. sigan asi.. mejor imposibletodo perfecto como lo describian lo recomiendo.. sigan asi.. todo perfecto como lo describian lo recomiendo.. sigan asi.. mejor imposible', ' bad bad bad bad bad', ' Great product at a great price.', \"didn't like it. I was not what I thought, didn't like it.\", 'Excellent Excellent product just as it was described', 'didn; t work for verizon. didn;t work for verizon.', \" Phone doesn't even turn on.\", ' GREAT DEAL AND WORKS AMAZING', 'ok ok excelente producto. Muy buenas condiciones. Debera traer audfonos, manual de uso y una caja de proteccin. Aunque sea un producto usado.', 'deco case not a real case decorative only', ' Disliked it did not work', '$2, 000??? WTF?!? $2,000??? WTF?!?', ' Works very good like new', 'Se recomienda Muy buen telfono llegaron en excelente estado sin rayas ni defectos  funcionan perfectamente con la operadora Digitel', ' My son said so far so good!', ' Se rompi de una vez', ' excellent product 100% perfect conditions', ' Love it works very well', 'I like it! Use it every day. I like it!', 'No it was damaged No it was damaged', ' Just stop working like that', 'Oferta engaosa Oferta engaosa en la publicacin dice iPhone 5C de 32 GB y me enviaron uno de 8GB', ' iPhone 5  ok good no', 'Super cute! Great case! Super cute.', \" J'ai bien reu l'iphone de 32Gb Il est Dans un bon tat\", ' We order gold.... end up recovering Silver one ', \" To small don't like it\", ' Llego en perfecto estado y funciona a la perfeccin', 'Producto vendido en mal estado Celular IPhone 6 sin cargador original, ni audfonos como viene el producto,  la batera solo permite 2 horas de disponibilidad y luego se apaga, se vendi un producto inservible me siento estafado, no lo puedo devolver porque vivo en Colombia', 'Defectuoso Sali defectuoso. No sirve el touch de la pantalla', ' Excelente y sin ningn dao .', 'NO LLEGO A TIEMPO SE QUEDO EN QUE IVA A LLEGAR EL 8 DE AGOSTO EN ESA DIRECCION YA NO ESTA LA SEORA QUE IVA A RECIBIR EL PRODUCTO, PUES ELLA ESTA LLEGANDO HOY DIA A ECUADOR', 'Telefono En excelentes condiciones. Me gust mucho. Muy lindo. Funciona al 100%.', 'good quality i like it', 'Buena condicion Muy buena condicion very good!', ' Phone did not work properly', 'Malas condiciones no se como amazon pudo certificar eso Que disparate eso llego todo rayado y con muchos golpes ,no compren eso waoo perdi mi dinero ', \"Dont work Touchscreen don't work end batteries die after  3 hours\", 'A tiempo y mercanca buena y original Gracias por el producto y la rapidez de entregas desde Puerto Rico ', ' IT WAS OVER USED OLD WATCH,', ' muy mala calidad , la pantalla y el boton no funciona correctamente', ' No se quiere conectar el wi-fi', 'Maravilloso producto. Maravilloso producto. Calidad extrema y belleza garantizada.', 'Genuine Genuine Apple Watch band.', 'Hola xq me estn cobrando 13 dlares de Mi Hola  xq me estn cobrando 13 dlares de Mi targeta', 'se podra activar a mayro Sera compatible con Metro pcs', 'Mal equipo El producto no es bueno el 100% viene con detalles de funcionamiento no anda bien del todo. El touch central no sirve y lo peor de todo es que la garanta o el vendedor no responde. Por lo menos no a mi.', 'It doesnt work It doesnt work', \"Really disappointed Wouldn't recognize simple card\", 'IPHONE 5S BUENOS DIAS PASADOS DIAS ATRAS REALICE UNA COMPRA POR ESTOS 2 PRODUCTOS Y LOS TLF NO SE PUEDEN UTILIZAR EN VENEZUELA COMO PODRIA DEVOLVERLOS Y CAMBIARLOS POR UNOS DESBLOQUEADOS???', 'No estoy contenta con la compra El telfono fsicamente est bien pero est daado el micrfono del telfono y por donde se escucha. Funciona con manos libres q no trajo', 'I like it. Worked well,I like it.', ' Cool phone i like it', 'Si el equipo esta defectuoso no corresponderia haber pagado el porte de $7,90 en USPS Despues de 12 horas de estar cargando el equipo no carg nada.', 'it works like No problem at all, it works like new', ' I like it. It looks like a new one', \". I don't like very old\", ' Glass its not good, broken.', ' I like it!!! Is very good! Thanks!', 'so good. So far, so good .', 'Great Reliable seller. Excellent refurbishment.', ' Awesome phone!! Just like new!', 'Ral  muy bueno, un poco caro el precio', 'Satisfecha Este iPhone si me sali bueno', 'excellent delivery and excellent as usual...excellent delivery and excellent goods', 'Excelente Todo perfecto! Muy buena calidad. Sper conforme', 'Cancelar pedido porPor favor seores muy gentilmente solicito cancele tu la orden de 269,99  de un iPhone el cual yo no solicite Envi un correo indicando que el pedido no lo realice yo mi hija menor de edad prest el cell y por confusin se realiz la compra ....... ped cancelar el pedido', 'Mejorar la calidad Llego antes de lo acordado pero no se que es lo que tiene porque cuando se estaba intalando lo tubo que hacer ms de tres veces se reiniciaba solo  no quera en lser con mi iPhone  tampoco puedes tener ningunas de las apps en el porque solo puedes tener Messenger no puedo usar ni recibir los mensajes de WhatsApp aparte de eso me llego sucio el Watch', 'Buena relacion precio calidad El telefono llego en muy buen estado. Es perfecto por el precio que pague. Como unica contra la bateria no dura tanto como desearia. Pero estoy conforme con la compra', 'Telfono Este producto me sali malo se friza no se que hacer', 'Bien Telefono en perfecto estado. Pero el cargador era de lg y el cable no era original.', 'Hice la compra de estos dos artculos donde deca que ... Hice la compra de estos dos artculos donde deca que eran desbloqueados, los quiero usar en mi pas y no puedo y no consigo la manera de poder liberarlos ya que dicen que son AT&T y son de otra compaa llamada go-phone, en pocas palabras he perdido mi dinero', 'Es muy vueno Si mui vueno', 'Me gusta mucho Me encanta perfecto', 'Buen telfono ,buen precio , 2 detalles pequeos !!!! Me enviaron el producto especfico , funciona bien , precio accesible , 2 pequeos detalles , un rasguo y pantalla medio levantada parte superior derecha , sastifecho con la compra ......', 'it looks and works like new. As promised, it looks and works like new.']\n",
      "918\n"
     ]
    }
   ],
   "source": [
    "add = []\n",
    "counter = 0\n",
    "for row in df[\"corpus\"]:\n",
    "    try:\n",
    "        if detect(row) != \"en\":\n",
    "            add.append(row)\n",
    "            counter += 1\n",
    "    except:\n",
    "        print(\"This row throws and error:\", row)\n",
    "print(add)\n",
    "print(counter)"
   ]
  },
  {
   "cell_type": "code",
   "execution_count": 201,
   "metadata": {},
   "outputs": [],
   "source": [
    "df.to_csv(\"apple_preprocessed.csv\", index=False)"
   ]
  }
 ],
 "metadata": {
  "kernelspec": {
   "display_name": ".venv",
   "language": "python",
   "name": "python3"
  },
  "language_info": {
   "codemirror_mode": {
    "name": "ipython",
    "version": 3
   },
   "file_extension": ".py",
   "mimetype": "text/x-python",
   "name": "python",
   "nbconvert_exporter": "python",
   "pygments_lexer": "ipython3",
   "version": "3.8.2"
  },
  "orig_nbformat": 4
 },
 "nbformat": 4,
 "nbformat_minor": 2
}
